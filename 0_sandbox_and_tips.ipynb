{
 "cells": [
  {
   "cell_type": "markdown",
   "metadata": {},
   "source": [
    "# Using Jupyter \n",
    "## Useful keyboard commands\n",
    "* `ctrl + Enter` to run a cell\n",
    "* `Alt + Enter` to run a cell and append a new cell below"
   ]
  },
  {
   "cell_type": "code",
   "execution_count": 2,
   "metadata": {},
   "outputs": [
    {
     "name": "stdout",
     "output_type": "stream",
     "text": [
      "126\n"
     ]
    }
   ],
   "source": [
    "x = 3\n",
    "y = 123\n",
    "print(x + y)\n",
    "x + y\n",
    "z = [1, 2, 3, 4, 5]\n",
    "sum(z)\n",
    "?sum"
   ]
  },
  {
   "cell_type": "markdown",
   "metadata": {},
   "source": [
    "## Look-up functions to use\n",
    "1. **`tab`** to see what functions you can use\n",
    "2.  **`shift-tab`** to check function argument"
   ]
  },
  {
   "cell_type": "code",
   "execution_count": 1,
   "metadata": {},
   "outputs": [
    {
     "data": {
      "text/plain": [
       "5"
      ]
     },
     "execution_count": 1,
     "metadata": {},
     "output_type": "execute_result"
    }
   ],
   "source": [
    "listA  = [1, 2, 3, 4, 5]\n",
    "len(listA)"
   ]
  },
  {
   "cell_type": "code",
   "execution_count": 6,
   "metadata": {},
   "outputs": [
    {
     "ename": "NameError",
     "evalue": "name 'listA' is not defined",
     "output_type": "error",
     "traceback": [
      "\u001b[0;31m---------------------------------------------------------------------------\u001b[0m",
      "\u001b[0;31mNameError\u001b[0m                                 Traceback (most recent call last)",
      "\u001b[0;32m<ipython-input-6-597457b1e107>\u001b[0m in \u001b[0;36m<module>\u001b[0;34m()\u001b[0m\n\u001b[0;32m----> 1\u001b[0;31m \u001b[0mlistA\u001b[0m\u001b[0;34m.\u001b[0m\u001b[0mappend\u001b[0m\u001b[0;34m(\u001b[0m\u001b[0;36m35\u001b[0m\u001b[0;34m)\u001b[0m\u001b[0;34m\u001b[0m\u001b[0m\n\u001b[0m\u001b[1;32m      2\u001b[0m \u001b[0mlistA\u001b[0m\u001b[0;34m\u001b[0m\u001b[0m\n",
      "\u001b[0;31mNameError\u001b[0m: name 'listA' is not defined"
     ]
    }
   ],
   "source": [
    "listA.append(35)\n",
    "listA"
   ]
  },
  {
   "cell_type": "markdown",
   "metadata": {},
   "source": [
    "# Tips\n",
    "\n",
    "## Keyboard shortcuts\n",
    "\n",
    "* `Alt-Enter` runs the current cell and inserts a new one below.\n",
    "* `Ctrl-Enter` run the current cell and enters command mode.\n",
    "\n",
    "## Re-open your notebook home\n",
    "* 通常你一開始在執行jupyter notebook後，會跳出一個命令列視窗，告訴你可以用哪個url開啟jupyter notebook。如果你不小心關了你的notebook home，不知道要怎麼重新打開時，就可以用這個網址打開。\n",
    "```\n",
    "[I 09:19:07.526 NotebookApp] Use Control-C to stop this server and shut down all kernels (twice to skip confirmation).\n",
    "[C 09:19:07.527 NotebookApp] \n",
    "    \n",
    "    Copy/paste this URL into your browser when you connect for the first time,\n",
    "    to login with a token:\n",
    "        http://localhost:8888/?token=2d0104cc02d813053bfe72128f0592f908d4d8e41cd9d617&token=2d0104cc02d813053bfe72128f0592f908d4d8e41cd9d617\n",
    "```\n",
    "\n",
    "## Magic commands\n",
    "\n",
    "* See https://www.dataquest.io/blog/jupyter-notebook-tips-tricks-shortcuts/\n",
    "* `%who` to show current global variables\n",
    "* `%whos` to show current global variables and their content\n",
    "\n",
    "## nbextensions\n",
    "\n",
    "* You can install jupyter nbextensions to get more tools. Please visit [nbextension](https://github.com/ipython-contrib/jupyter_contrib_nbextensions) to install it.\n",
    "    * `pip install jupyter_contrib_nbextensions`\n",
    "    * `conda install -c conda-forge jupyter_contrib_nbextensions`\n",
    "* You will see nbextensions appear in your jupyter notebook when you start jupyter notebook. I like following extensions\n",
    "    * Table of content\n",
    "    * ScratchPad\n",
    "    * Highlight selected word\n",
    "\n",
    "### ScratchPad (Ctrl-B)"
   ]
  }
 ],
 "metadata": {
  "kernelspec": {
   "display_name": "Python 3",
   "language": "python",
   "name": "python3"
  },
  "language_info": {
   "codemirror_mode": {
    "name": "ipython",
    "version": 3
   },
   "file_extension": ".py",
   "mimetype": "text/x-python",
   "name": "python",
   "nbconvert_exporter": "python",
   "pygments_lexer": "ipython3",
   "version": "3.6.5"
  },
  "toc": {
   "base_numbering": 1,
   "nav_menu": {},
   "number_sections": true,
   "sideBar": true,
   "skip_h1_title": false,
   "title_cell": "Table of Contents",
   "title_sidebar": "Contents",
   "toc_cell": false,
   "toc_position": {},
   "toc_section_display": true,
   "toc_window_display": true
  }
 },
 "nbformat": 4,
 "nbformat_minor": 2
}
