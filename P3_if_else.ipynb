{
 "cells": [
  {
   "cell_type": "markdown",
   "metadata": {},
   "source": [
    "# P3\n",
    "## 本週重點\n",
    "* 本週除了講述IF的邏輯敘述外，將開始回顧到第一週所說的，資料的計數。\n",
    "* 看到一筆類似空氣品質的資料，一般會想要做什麼事？\n",
    "    1. 找到突出的（Prominent）資料：找到最嚴重的地區。如果最嚴重的地區不只一個，那就要列印出多個地區。\n",
    "    2. 找到突出的（Prominent）資料：不僅找到最嚴重的地區，還要找到前三大、前五大、前10%。\n",
    "    3. 描述資料分佈概況。例如平均值、四分位數、左/右傾分佈（常態分配、Power low）\n",
    "    4. 篩選出一些我想看的資料。\n",
    "* 為什麼要找到這些資料的概況？簡單地說，是為了讓一般人聽得懂，但要求有憑有據。只有資料的分析者和操作者看得到資料，但重點是你今天通常為什麼要做資料分析，是因為你想要傳達給別人，這筆資料有啥特殊之處，或者他平淡無奇。但為了做到這點，你需要用一個他們都聽得懂的語彙，例如「大部分的區域」、「最嚴重的區域」、「前幾大」。然而，這些語彙的邏輯實際上都模糊而不準確，但若你有資料和數學的支持，你就可以說得有信心，有憑有據，而不至於信口開河。\n",
    "\n",
    "## 授課內容\n",
    "* if的邏輯\n",
    "    * 選擇性列印出你所要呈現的youbike站台\n",
    "        * 指定要某幾個\n",
    "        * 指定要滿載的\n",
    "        * 指定要少的\n",
    "    * 找到最大值和最小值\n",
    "    * 處理缺漏值，AQX不定期地會有缺漏值，要用if來偵測是否有缺漏值，並指定遇到缺漏值要怎麼做處理。\n",
    "    * 範例：查驗輸入的日期是否合理\n",
    "* if-for應用\n",
    "    * 計算文字的出現次數counting and ploting the word frequency\n",
    "    * 找到最大或者是前三大的PM2.5站台finding the maximum and top 3 PM2.5 sites\n",
    "    * 練習與作業：Rescaling the PM2.5 values。將PM2.5對應到1~10好進行視覺化或者發佈一般使用者聽得懂的數據（例如，若告訴一個使用者PM2.5是67，他可能不知道這個數字代表什麼意義，但你若透過一個標準的Mapping把它mapping到高，並告訴使用者說現在這個區域PM2.5是高，那他就聽得懂，而你的轉換也有憑有據）。\n",
    "* Converting and storing the data as your own format."
   ]
  },
  {
   "cell_type": "markdown",
   "metadata": {},
   "source": [
    "# IF\n",
    "* if: 如果「此敘述為真」，那就做以下的操作。"
   ]
  },
  {
   "cell_type": "code",
   "execution_count": 1,
   "metadata": {
    "collapsed": false
   },
   "outputs": [
    {
     "name": "stdout",
     "output_type": "stream",
     "text": [
      "True\n",
      "False\n",
      "hehehe\n",
      "YES\n",
      "YES\n"
     ]
    }
   ],
   "source": [
    "print (5 in range(10))\n",
    "print (10 in range(10))\n",
    "if not (5 in range(10)):\n",
    "    print \"hahaha\"\n",
    "if not (10 in range(10)):\n",
    "    print \"hehehe\"\n",
    "a, b, c = 3, 5, 7\n",
    "if a < b and b < c:\n",
    "    print \"YES\"\n",
    "if 1 < b < 10:\n",
    "    print \"YES\""
   ]
  },
  {
   "cell_type": "code",
   "execution_count": 3,
   "metadata": {
    "collapsed": true
   },
   "outputs": [],
   "source": [
    "def whatisthis(s):\n",
    "    if isinstance(s, str):\n",
    "        print \"ordinary string\"\n",
    "    elif isinstance(s, unicode):\n",
    "        print \"unicode string\"\n",
    "    else:\n",
    "        print \"not a string\""
   ]
  },
  {
   "cell_type": "code",
   "execution_count": 5,
   "metadata": {
    "collapsed": false
   },
   "outputs": [
    {
     "name": "stdout",
     "output_type": "stream",
     "text": [
      "testing >我是誰\n",
      "ordinary string\n",
      "None\n"
     ]
    }
   ],
   "source": [
    "print whatisthis(raw_input(\"testing >\"))"
   ]
  },
  {
   "cell_type": "markdown",
   "metadata": {},
   "source": [
    "## logic operation:  邏輯運算\n",
    "* and\n",
    "* or\n",
    "* not\n",
    "* <, >, <=, >=, ==(equal to), !=(not equal to)"
   ]
  },
  {
   "cell_type": "code",
   "execution_count": 3,
   "metadata": {
    "collapsed": false
   },
   "outputs": [
    {
     "name": "stdout",
     "output_type": "stream",
     "text": [
      "False\n"
     ]
    }
   ],
   "source": [
    "a = 3\n",
    "b = 4\n",
    "c = 7\n",
    "d, e, f = 7, 8, 9 # suitable for assigning value with the same type\n",
    "print a+b != c"
   ]
  },
  {
   "cell_type": "code",
   "execution_count": 3,
   "metadata": {
    "collapsed": false
   },
   "outputs": [
    {
     "name": "stdout",
     "output_type": "stream",
     "text": [
      "a == b\n",
      "a is not b\n"
     ]
    }
   ],
   "source": [
    "# a is b, a is not b\n",
    "# a == b\n",
    "a, b, c = 1, 1.0, '1'\n",
    "\n",
    "# == equal to\n",
    "if (a == b):\n",
    "    print \"a == b\"\n",
    "else:\n",
    "    print \"a != b\"\n",
    "\n",
    "# is\n",
    "if a is b:\n",
    "    print \"a is b\"\n",
    "else:\n",
    "    print \"a is not b\"\n"
   ]
  },
  {
   "cell_type": "markdown",
   "metadata": {},
   "source": [
    "## [for-if] e.g., Youbike: 僅列印出你所要觀察的Youbike站台。"
   ]
  },
  {
   "cell_type": "code",
   "execution_count": 1,
   "metadata": {
    "collapsed": false
   },
   "outputs": [
    {
     "name": "stdout",
     "output_type": "stream",
     "text": [
      "20160321230441\n",
      "0038\t臺灣師範大學(圖書館)         \t6\t34\n",
      "0132\t羅斯福新生南路口            \t72\t88\n",
      "0036\t臺大資訊大樓              \t22\t72\n"
     ]
    }
   ],
   "source": [
    "import urllib\n",
    "import json\n",
    "import gzip\n",
    "url = 'http://data.taipei/youbike'\n",
    "\n",
    "urllib.urlretrieve(url, \"data.gz\")\n",
    "data_str = gzip.open('data.gz', 'r').read()\n",
    "bike_data = json.loads(data_str)\n",
    "print bike_data[\"retVal\"].values()[0]['mday']\n",
    "for site in bike_data[\"retVal\"].keys():\n",
    "    if site in ['0036', '0038', '0132']:\n",
    "        print \"%s\\t%-20s\\t%s\\t%s\"%(bike_data[\"retVal\"][site][\"sno\"], \n",
    "                                   bike_data[\"retVal\"][site][\"sna\"], \n",
    "                                   bike_data[\"retVal\"][site]['sbi'],\n",
    "                                   bike_data[\"retVal\"][site]['tot'])\n",
    "# for site in ['0036', '0038', '0132']:\n",
    "#     print \"%s\\t%-20s\\t%s\\t%s\"%(bike_data[\"retVal\"][site][\"sno\"], \n",
    "#                                bike_data[\"retVal\"][site][\"sna\"], \n",
    "#                                bike_data[\"retVal\"][site]['sbi'],\n",
    "#                                bike_data[\"retVal\"][site]['tot'])"
   ]
  },
  {
   "cell_type": "markdown",
   "metadata": {},
   "source": [
    "## [for-if] e.g. Counting the frequency"
   ]
  },
  {
   "cell_type": "code",
   "execution_count": 2,
   "metadata": {
    "collapsed": false
   },
   "outputs": [
    {
     "name": "stdout",
     "output_type": "stream",
     "text": [
      "all men have stars but they are not the same things for different people for some who are travelers the stars are guides for others they are no more than little lights in the sky for others who are scholars they are problems but all these stars are silent youyou alone will have stars as no one else has them in one of the stars i shall be living in one of them i shall be laughing and so it will be as if all the stars will be laughing when you look at the sky at nightyou only you will have stars that can laugh and when your sorrow is comforted time soothes all sorrows you will be content that you have known me you will always be my friend you will want to laugh with me and you will sometimes open your window so for that pleasure it will be as if in place of the stars i had given you a great number of little bells that knew how to laugh\n",
      "all 4\n",
      "nightyou 1\n",
      "guides 1\n",
      "sky 2\n",
      "to 2\n",
      "window 1\n",
      "soothes 1\n",
      "has 1\n",
      "them 2\n",
      "they 3\n",
      "not 1\n",
      "always 1\n",
      "laughing 2\n",
      "people 1\n",
      "some 1\n",
      "are 7\n",
      "living 1\n",
      "for 5\n",
      "content 1\n",
      "lights 1\n",
      "be 7\n",
      "who 2\n",
      "sorrow 1\n",
      "men 1\n",
      "given 1\n",
      "others 2\n",
      "alone 1\n",
      "great 1\n",
      "of 4\n",
      "place 1\n",
      "travelers 1\n",
      "number 1\n",
      "comforted 1\n",
      "one 3\n",
      "sorrows 1\n",
      "laugh 3\n",
      "open 1\n",
      "your 2\n",
      "little 2\n",
      "silent 1\n",
      "only 1\n",
      "stars 8\n",
      "friend 1\n",
      "more 1\n",
      "that 4\n",
      "but 2\n",
      "else 1\n",
      "known 1\n",
      "with 1\n",
      "than 1\n",
      "had 1\n",
      "me 2\n",
      "look 1\n",
      "these 1\n",
      "will 9\n",
      "can 1\n",
      "my 1\n",
      "and 3\n",
      "want 1\n",
      "is 1\n",
      "it 2\n",
      "as 3\n",
      "at 2\n",
      "have 4\n",
      "in 4\n",
      "if 2\n",
      "different 1\n",
      "no 2\n",
      "things 1\n",
      "when 2\n",
      "same 1\n",
      "how 1\n",
      "youyou 1\n",
      "you 8\n",
      "bells 1\n",
      "shall 2\n",
      "knew 1\n",
      "problems 1\n",
      "scholars 1\n",
      "a 1\n",
      "i 3\n",
      "sometimes 1\n",
      "so 2\n",
      "time 1\n",
      "pleasure 1\n",
      "the 7\n"
     ]
    }
   ],
   "source": [
    "import string\n",
    "sentences = 'All men have stars, but they are not the same things for different people. For some, who are travelers, the stars are guides. For others they are no more than little lights in the sky. For others, who are scholars, they are problems... But all these stars are silent. You-You alone will have stars as no one else has them... In one of the stars I shall be living. In one of them I shall be laughing. And so it will be as if all the stars will be laughing when you look at the sky at night..You, only you, will have stars that can laugh! And when your sorrow is comforted (time soothes all sorrows) you will be content that you have known me... You will always be my friend. You will want to laugh with me. And you will sometimes open your window, so, for that pleasure... It will be as if, in place of the stars, I had given you a great number of little bells that knew how to laugh'\n",
    "# print sentences[3] # like a list\n",
    "# print string.punctuation\n",
    "exclude = set(string.punctuation)\n",
    "# print set(string.punctuation)\n",
    "sentences = ''.join(ch for ch in sentences if ch not in exclude)\n",
    "sentences = sentences.lower()\n",
    "print sentences\n",
    "# print sentences\n",
    "\n",
    "sentences = \"all men have stars but they are not the same things for different people for some who are travelers the stars are guides for others they are no more than little lights in the sky for others who are scholars they are problems but all these stars are silent youyou alone will have stars as no one else has them in one of the stars i shall be living in one of them i shall be laughing and so it will be as if all the stars will be laughing when you look at the sky at nightyou only you will have stars that can laugh and when your sorrow is comforted time soothes all sorrows you will be content that you have known me you will always be my friend you will want to laugh with me and you will sometimes open your window so for that pleasure it will be as if in place of the stars i had given you a great number of little bells that knew how to laugh\"\n",
    "wdict = {}\n",
    "\n",
    "word_list = sentences.split() # split() is a string function\n",
    "for word in word_list:\n",
    "    if word not in wdict:\n",
    "        wdict[word] = 0\n",
    "    wdict[word] += 1\n",
    "#     wdict[word] = wdict[word] + 1\n",
    "for word, freq in wdict.items():\n",
    "    print word, freq"
   ]
  },
  {
   "cell_type": "code",
   "execution_count": 23,
   "metadata": {
    "collapsed": false
   },
   "outputs": [
    {
     "name": "stdout",
     "output_type": "stream",
     "text": [
      "{u'\\u7051': 2, u'\\u4e0a': 2, u'\\u548c': 2, u'\\u6e6f': 6, u'\\u6ed1': 2, u'\\u7aef': 2, u'\\u71d9': 2, u'\\u5c1a': 2, u'\\u5854': 6}\n",
      "灑 2\n",
      "上 2\n",
      "和 2\n",
      "湯 6\n",
      "滑 2\n",
      "端 2\n",
      "燙 2\n",
      "尚 2\n",
      "塔 6\n"
     ]
    }
   ],
   "source": [
    "# -*- coding: utf-8 -*-\n",
    "sentences = '和尚端湯上塔塔滑湯灑湯燙塔和尚端塔上湯湯滑塔灑塔燙湯'\n",
    "cdict = {}\n",
    "for ch in sentences.decode('utf-8'):\n",
    "    if not cdict.has_key(ch):\n",
    "        cdict[ch] = 0\n",
    "    cdict[ch] += 1\n",
    "print cdict\n",
    "for ch, f in cdict.items():\n",
    "    print ch, f"
   ]
  },
  {
   "cell_type": "code",
   "execution_count": 1,
   "metadata": {
    "collapsed": false
   },
   "outputs": [
    {
     "name": "stderr",
     "output_type": "stream",
     "text": [
      "/Users/jirlong/Library/Enthought/Canopy_64bit/User/lib/python2.7/site-packages/matplotlib/font_manager.py:273: UserWarning: Matplotlib is building the font cache using fc-list. This may take a moment.\n",
      "  warnings.warn('Matplotlib is building the font cache using fc-list. This may take a moment.')\n"
     ]
    },
    {
     "name": "stdout",
     "output_type": "stream",
     "text": [
      "9 will\n",
      "8 you\n",
      "8 stars\n",
      "7 the\n",
      "7 be\n"
     ]
    },
    {
     "data": {
      "text/plain": [
       "(array([ 51.,  17.,   6.,   5.,   0.,   1.,   0.,   3.,   2.,   1.]),\n",
       " array([ 1. ,  1.8,  2.6,  3.4,  4.2,  5. ,  5.8,  6.6,  7.4,  8.2,  9. ]),\n",
       " <a list of 10 Patch objects>)"
      ]
     },
     "execution_count": 1,
     "metadata": {},
     "output_type": "execute_result"
    },
    {
     "data": {
      "image/png": "[encoded data removed]",
      "text/plain": [
       "<matplotlib.figure.Figure at 0x10620aa50>"
      ]
     },
     "metadata": {},
     "output_type": "display_data"
    }
   ],
   "source": [
    "%matplotlib inline\n",
    "import matplotlib.pyplot as plt\n",
    "\n",
    "import string\n",
    "sentences = 'All men have stars, but they are not the same things for different people. For some, who are travelers, the stars are guides. For others they are no more than little lights in the sky. For others, who are scholars, they are problems... But all these stars are silent. You-You alone will have stars as no one else has them... In one of the stars I shall be living. In one of them I shall be laughing. And so it will be as if all the stars will be laughing when you look at the sky at night..You, only you, will have stars that can laugh! And when your sorrow is comforted (time soothes all sorrows) you will be content that you have known me... You will always be my friend. You will want to laugh with me. And you will sometimes open your window, so, for that pleasure... It will be as if, in place of the stars, I had given you a great number of little bells that knew how to laugh'\n",
    "sentences = sentences.translate(None, string.punctuation) #strip all punctuation\n",
    "sentences = sentences.lower() # convert all letters to lower case\n",
    "wdict = {}\n",
    "for word in sentences.split(): # calculate word frequency\n",
    "    if word not in wdict:\n",
    "        wdict[word] = 0\n",
    "    wdict[word] += 1\n",
    "for f, q in sorted(((freq, word) for word, freq in wdict.items()), reverse=True)[:5]: # sort by word frequency and print out top 5 words\n",
    "    print f, q\n",
    "plt.hist(wdict.values(), facecolor='green', alpha=0.5)# plot hist:histogram"
   ]
  },
  {
   "cell_type": "markdown",
   "metadata": {},
   "source": [
    "## [for-if] e.g. finding maximum AQX 找到PM2.5最大的區域\n",
    "* [PM2.5 introduced by 行政院環保署](http://taqm.epa.gov.tw/pm25/tw/default.aspx)\n",
    "* 以下這是個非常好的例子說明要如何運用IF和For找出PM2.5最高的地區。在過程中，必須要注意，原本的資料的資料型態為何，甚至要注意，原本的資料是否有缺漏。當遇到下面這種資料的情形時，最好的方法是要先寫程式把資料處理過一遍。\n",
    "* 在這個案例中，我希望找出，現在PM2.5最高的是哪些站台，且把該站台列印出來。注意，我要列印的是，PM2.5最高的站台，而不是最高的PM2.5值；此外還要注意，PM2.5最高的站台可能不只一個，這時候該怎麼處理？"
   ]
  },
  {
   "cell_type": "markdown",
   "metadata": {},
   "source": [
    "### finding the maximum and minimum value\n",
    "* 找到最大值或最小值的概念：就個人的邏輯思考一下，我要怎麼找到一群數的最小值？\n",
    "* 解題邏輯：把第一個數先拿來當標準，之後確認過每個數，有沒有比這個數更小的，若有的話，最小值就是找到的那個數，沒有的話，那第一個數就是最小值。"
   ]
  },
  {
   "cell_type": "code",
   "execution_count": 34,
   "metadata": {
    "collapsed": false
   },
   "outputs": [
    {
     "name": "stdout",
     "output_type": "stream",
     "text": [
      "1\n",
      "1 82 197 13 15.1538461538\n"
     ]
    }
   ],
   "source": [
    "# finding the maximum value\n",
    "alist = [5, 3, 2, 4, 1, 3, 2, 4, 7, 82, 19, 23, 42]\n",
    "# mina, maxa = 100, 0\n",
    "mina = alist[0]\n",
    "for a in alist:\n",
    "    if a < mina:\n",
    "        mina = a\n",
    "#     print maxa, a\n",
    "print mina\n",
    "print min(alist), max(alist), sum(alist), len(alist), float(sum(alist))/len(alist)"
   ]
  },
  {
   "cell_type": "code",
   "execution_count": 21,
   "metadata": {
    "collapsed": false
   },
   "outputs": [
    {
     "name": "stdout",
     "output_type": "stream",
     "text": [
      "1\n",
      "1\n",
      "1 42\n"
     ]
    }
   ],
   "source": [
    "for a in alist:\n",
    "    if a == mina:\n",
    "        print a\n",
    "print min(alist), max(alist)"
   ]
  },
  {
   "cell_type": "code",
   "execution_count": 37,
   "metadata": {
    "collapsed": true
   },
   "outputs": [],
   "source": [
    "import urllib\n",
    "import json\n",
    "url = 'http://opendata.epa.gov.tw/ws/Data/AQX/?format=json'\n",
    "urllib.urlretrieve(url, \"data.gz\")\n",
    "data_str = open('data.gz', 'r').read()\n",
    "AQ_data = json.loads(data_str)"
   ]
  },
  {
   "cell_type": "code",
   "execution_count": 56,
   "metadata": {
    "collapsed": false
   },
   "outputs": [
    {
     "name": "stdout",
     "output_type": "stream",
     "text": [
      "[u'Status', u'PSI', u'CO', u'PM10', u'NO', u'MajorPollutant', u'WindDirec', u'FPMI', u'PublishTime', u'SO2', u'County', u'SiteName', u'WindSpeed', u'PM2.5', u'NOx', u'O3', u'NO2']\n",
      "85\n",
      "林園 85\n"
     ]
    }
   ],
   "source": [
    "maxa = 0\n",
    "max_SiteName = \"\"\n",
    "print AQ_data[0].keys()\n",
    "for site in AQ_data:\n",
    "    if site['PM2.5'] == \"\":\n",
    "        site['PM2.5'] = '-1'\n",
    "#     print site['PM2.5']\n",
    "    if int(site['PM2.5']) > maxa:\n",
    "        maxa = int(site['PM2.5'])\n",
    "print maxa\n",
    "\n",
    "for site in AQ_data:\n",
    "    if int(site['PM2.5']) >= maxa:\n",
    "        print site['SiteName'], site['PM2.5']\n"
   ]
  },
  {
   "cell_type": "code",
   "execution_count": 58,
   "metadata": {
    "collapsed": false
   },
   "outputs": [
    {
     "name": "stdout",
     "output_type": "stream",
     "text": [
      "<type 'list'>\n",
      "[u'Status', u'PSI', u'CO', u'PM10', u'NO', u'MajorPollutant', u'WindDirec', u'FPMI', u'PublishTime', u'SO2', u'County', u'SiteName', u'WindSpeed', u'PM2.5', u'NOx', u'O3', u'NO2']\n",
      "85\n",
      "林園\n"
     ]
    }
   ],
   "source": [
    "print type(AQ_data)\n",
    "print AQ_data[0].keys()\n",
    "max_value = 0\n",
    "for site in AQ_data:\n",
    "    if site['PM2.5'] != \"\":\n",
    "        if int(site['PM2.5']) > max_value:\n",
    "            max_value = int(site['PM2.5'])\n",
    "print max_value\n",
    "for site in AQ_data:\n",
    "    if site['PM2.5'] == str(max_value):\n",
    "        print site['SiteName']\n",
    "\n",
    "        "
   ]
  },
  {
   "cell_type": "markdown",
   "metadata": {},
   "source": [
    "## finding top 3 site with highest PM2.5 values\n",
    "\n",
    "## Appending elements to list\n",
    "* 在前述找到最小值和最大值的範例中，只需要多開一個變數來記錄最大值或最小值。\n",
    "* 但若今天想要列印出前三大、五大、前10%的高PM2.5站台，那意謂著你不只要存放一個值，也就是說，你需要用一個list把PM2.5的值通通存下來，經過排序後，你才會知道誰最大。\n",
    "    1. 先把所有PM2.5的值存下來\n",
    "    2. 排序\n",
    "    3. 選擇要print出多大的PM2.5值\n",
    "* 這樣的做法在資料分析中很常見，比方說我要求得四分位數（Quartile）的第一四分位數或第三四分位數。"
   ]
  },
  {
   "cell_type": "code",
   "execution_count": 69,
   "metadata": {
    "collapsed": false
   },
   "outputs": [
    {
     "name": "stdout",
     "output_type": "stream",
     "text": [
      "75\n",
      "南投 52\n",
      "斗六 62\n",
      "新港 44\n",
      "嘉義 66\n",
      "新營 63\n",
      "善化 64\n",
      "臺南 56\n",
      "橋頭 60\n",
      "仁武 75\n",
      "鳳山 67\n",
      "大寮 50\n",
      "林園 85\n",
      "楠梓 58\n",
      "左營 74\n",
      "前鎮 59\n",
      "小港 62\n",
      "潮州 45\n",
      "竹山 46\n",
      "復興 71\n",
      "前金 80\n"
     ]
    }
   ],
   "source": [
    "pm_list = []\n",
    "for site in AQ_data:\n",
    "    if site['PM2.5'] != \"\":\n",
    "        pm_list.append(int(site['PM2.5']))\n",
    "pm_list = sorted(pm_list, reverse = True)\n",
    "print pm_list[2]\n",
    "\n",
    "for site in AQ_data:\n",
    "    if int(site['PM2.5']) >= pm_list[len(pm_list)/4]:\n",
    "        print site['SiteName'], site['PM2.5']"
   ]
  },
  {
   "cell_type": "code",
   "execution_count": 82,
   "metadata": {
    "collapsed": false
   },
   "outputs": [
    {
     "name": "stdout",
     "output_type": "stream",
     "text": [
      "Enter a date(20010101~20161231) > 20161235\n",
      "Please enter a valid date between 20010101~20161231\n"
     ]
    }
   ],
   "source": [
    "a  = input(\"Enter a date(20010101~20161231) > \")\n",
    "suc = True\n",
    "\n",
    "if not 20010101 <= a <= 20161231:\n",
    "    print \"Please enter a valid date between 20010101~20161231\"\n",
    "    suc = False\n",
    "else:\n",
    "    if not 2001 <= a/10000 <= 2016:\n",
    "        print \"Wrong year\"\n",
    "        suc = False\n",
    "    if not 1 <= a%100 <= 31:\n",
    "        print \"Wrong date\"\n",
    "        suc = False\n",
    "    if not 1 <= a%10000/100 <= 12:\n",
    "        print \"Wrong month\"\n",
    "        suc = False\n",
    "if suc:\n",
    "    print \"Correct Input! %d\"%a\n",
    "        \n",
    "        "
   ]
  },
  {
   "cell_type": "markdown",
   "metadata": {},
   "source": [
    "# [if-else] Validating an input\n",
    "* 延續前次將整數20080527拆為年月日的例子，現在請讓使用者輸入一個數字，如果該數字低於2001年超過2015年，或者非正常月份日期數字（假設一個月都是31天），如果錯誤的話，就告訴使用者哪裡錯誤。"
   ]
  },
  {
   "cell_type": "code",
   "execution_count": 2,
   "metadata": {
    "collapsed": false
   },
   "outputs": [
    {
     "name": "stdout",
     "output_type": "stream",
     "text": [
      "please input a number: 123\n",
      "ERROR: YEAR 0 (SHOULD BE 2001<=Year<=2015)\n"
     ]
    }
   ],
   "source": [
    "a = input(\"please input a number: \")\n",
    "if not 20010000 < a < 20160000:\n",
    "    print \"ERROR: YEAR %d (SHOULD BE 2001<=Year<=2015)\"%(a/10000)\n",
    "if not 1 <= a%10000/100 <= 12:\n",
    "    print \"ERROR: MONTH %d (SHOULD BE 1<=Month<=12)\"%(a%10000/100)\n",
    "if not 1 <= a%100 <= 31:\n",
    "    print \"ERROR: DATE %d (SHOULD BE 1<=Day<=31)\"%(a%100)"
   ]
  },
  {
   "cell_type": "markdown",
   "metadata": {},
   "source": [
    "## Advanced 1\n",
    "* 延續前例，請問如果三者都正確，要能夠列印出輸入成功數字的訊息，要怎麼操作？\n",
    "    * 心想：如果三個都沒錯的話，那就是對的。\n",
    "    * 發展：弄枚銅板來，翻到正面，如果有一個錯，我就把它翻到背面。最後如果他還是正面的，那代表年月日都是對的了。"
   ]
  },
  {
   "cell_type": "code",
   "execution_count": null,
   "metadata": {
    "collapsed": true
   },
   "outputs": [],
   "source": [
    "a = input(\"please input a number: \")\n",
    "# print type(a)\n",
    "suc = True\n",
    "if not 20010000 < a < 20160000:\n",
    "    print \"ERROR: YEAR %d (SHOULD BE 2001<=Year<=2015)\"%(a/10000)\n",
    "    suc = False\n",
    "if not 1 <= a%10000/100 <= 12:\n",
    "    print \"ERROR: MONTH %d (SHOULD BE 1<=Month<=12)\"%(a%10000/100)\n",
    "    suc = False\n",
    "if not 1 <= a%100 <= 31:\n",
    "    print \"ERROR: DATE %d (SHOULD BE 1<=Day<=31)\"%(a%100)\n",
    "    suc = False\n",
    "if suc: \n",
    "    print \"VALIDATED: YMD = %d/%d/%d\"%(a/10000, a%10000/100, a%100)"
   ]
  },
  {
   "cell_type": "markdown",
   "metadata": {},
   "source": [
    "## Advanced 2\n",
    "* 前面這兩個例子會成功是因為我們假設，使用者都會乖乖輸入八位數字，如果使用者今天就是不會輸入八位數字，那要怎麼預防（有可能你前面第一題就已經可以解決這問題了）"
   ]
  },
  {
   "cell_type": "code",
   "execution_count": null,
   "metadata": {
    "collapsed": true
   },
   "outputs": [],
   "source": [
    "a = input(\"please input a number: \")\n",
    "# print type(a)\n",
    "suc = True\n",
    "if not 10000000 <= a < 100000000:\n",
    "    print \"ERROR: %d (NOT TYPYCAL DATE FORMAT)\"%(a)\n",
    "else:\n",
    "    if not 20010000 < a < 20160000:\n",
    "        print \"ERROR: YEAR %d (SHOULD BE 2001<=Year<=2015)\"%(a/10000)\n",
    "        suc = False\n",
    "    if not 1 <= a%10000/100 <= 12:\n",
    "        print \"ERROR: MONTH %d (SHOULD BE 1<=Month<=12)\"%(a%10000/100)\n",
    "        suc = False\n",
    "    if not 1 <= a%100 <= 31:\n",
    "        print \"ERROR: DATE %d (SHOULD BE 1<=Day<=31)\"%(a%100)\n",
    "        suc = False\n",
    "    if suc: \n",
    "        print \"VALIDATED: YMD = %d/%d/%d\"%(a/10000, a%10000/100, a%100)"
   ]
  },
  {
   "cell_type": "markdown",
   "metadata": {},
   "source": [
    "## Advanced 3 --> See your assignment\n",
    "* 如果我今天希望，要依照不同月份的天數來區分的話，那要怎麼做？（HINT: Using dictionary）"
   ]
  },
  {
   "cell_type": "markdown",
   "metadata": {},
   "source": [
    "# if-else, if-elif-else, if-elif-elif-else"
   ]
  },
  {
   "cell_type": "code",
   "execution_count": 3,
   "metadata": {
    "collapsed": false
   },
   "outputs": [
    {
     "name": "stdout",
     "output_type": "stream",
     "text": [
      "Enter a number61\n",
      "Enter a number59\n",
      "Enter a number30\n",
      "Enter a number90\n",
      "Enter a number100\n",
      "Fail: 2 Pass: 3\n"
     ]
    }
   ],
   "source": [
    "i=0\n",
    "f, p = 0, 0\n",
    "for i in range(5):\n",
    "    x = input(\"Enter a number\")\n",
    "    if x < 60:\n",
    "        f += 1\n",
    "    else:\n",
    "        p += 1\n",
    "\n",
    "print \"Fail:\", f, \"Pass:\", p"
   ]
  },
  {
   "cell_type": "code",
   "execution_count": null,
   "metadata": {
    "collapsed": false
   },
   "outputs": [],
   "source": [
    "p_ctr = 0   # initial value of p_ctr\n",
    "for i in range(2):\n",
    "    x = input(\"Enter a number:\")\n",
    "    if x >= 60:\n",
    "        p_ctr += 1\n",
    "    i += 1\n",
    "print p_ctr"
   ]
  },
  {
   "cell_type": "code",
   "execution_count": 4,
   "metadata": {
    "collapsed": false
   },
   "outputs": [
    {
     "name": "stdout",
     "output_type": "stream",
     "text": [
      "Enter a number:\n"
     ]
    },
    {
     "ename": "SyntaxError",
     "evalue": "unexpected EOF while parsing (<string>, line 0)",
     "output_type": "error",
     "traceback": [
      "\u001b[0;36m  File \u001b[0;32m\"<string>\"\u001b[0;36m, line \u001b[0;32munknown\u001b[0m\n\u001b[0;31m    \u001b[0m\n\u001b[0m    ^\u001b[0m\n\u001b[0;31mSyntaxError\u001b[0m\u001b[0;31m:\u001b[0m unexpected EOF while parsing\n"
     ]
    }
   ],
   "source": [
    "# 如果我希望計算,我輸⼊入這麼多的數,到底分別有幾個⼈人及格,不及格,100分,那怎麼辦?\n",
    "Fai, Pas, Hun = 0, 0, 0\n",
    "for i in range(2):\n",
    "    x = input(\"Enter a number:\")\n",
    "    if x < 60:\n",
    "        Fai += 1\n",
    "    elif x == 100:\n",
    "        Hun += 1\n",
    "    else:\n",
    "        Pas += 1\n",
    "    i += 1\n",
    "# print Fai, Pas, Hun\n",
    "# print \"Fail:\", Fai, \"Pass:\", Pas,\"100:\", Hun\n",
    "\n",
    "print \"FAIL:%d\\tPASS:%d\\t100:%d\"%(Fai, Pas, Hun)\n"
   ]
  },
  {
   "cell_type": "markdown",
   "metadata": {},
   "source": [
    "# Cleaning and Restoring the PM2.5 data\n",
    "* PM2.5的值經常傳回來是空的，且是一個字串，如果我要知道誰比較嚴重，要怎麼處理？\n",
    "* 我今天希望重建一個新的dictionary，裡面存放著我所需要的資料就好。"
   ]
  },
  {
   "cell_type": "code",
   "execution_count": 1,
   "metadata": {
    "collapsed": true
   },
   "outputs": [],
   "source": [
    "# print High PM2.5 data\n",
    "# top 3 PM2.5 site\n",
    "\n",
    "import urllib\n",
    "import json\n",
    "url = 'http://opendata.epa.gov.tw/ws/Data/AQX/?format=json'\n",
    "urllib.urlretrieve(url, \"data.json\")\n",
    "data_str = open('data.json', 'r').read()\n",
    "AQ_data = json.loads(data_str)"
   ]
  },
  {
   "cell_type": "code",
   "execution_count": 2,
   "metadata": {
    "collapsed": false
   },
   "outputs": [
    {
     "name": "stdout",
     "output_type": "stream",
     "text": [
      "美濃 22\n",
      "竹山 22\n",
      "基隆 26\n",
      "汐止 26\n",
      "萬里 27\n",
      "土城 24\n",
      "板橋 27\n",
      "新莊 22\n",
      "菜寮 22\n",
      "林口 35\n",
      "淡水 31\n",
      "士林 30\n",
      "中山 -1\n",
      "萬華 25\n",
      "古亭 29\n",
      "松山 22\n",
      "大同 27\n",
      "桃園 24\n",
      "大園 21\n",
      "觀音 42\n",
      "平鎮 13\n",
      "龍潭 16\n",
      "湖口 27\n",
      "竹東 14\n",
      "新竹 23\n",
      "頭份 15\n",
      "苗栗 18\n",
      "三義 25\n",
      "豐原 42\n",
      "沙鹿 30\n",
      "大里 32\n",
      "忠明 28\n",
      "西屯 37\n",
      "彰化 17\n",
      "線西 29\n",
      "二林 39\n",
      "南投 35\n",
      "斗六 24\n",
      "崙背 29\n",
      "新港 18\n",
      "朴子 25\n",
      "臺西 36\n",
      "嘉義 25\n",
      "新營 35\n",
      "善化 28\n",
      "安南 19\n",
      "臺南 20\n",
      "橋頭 11\n",
      "仁武 26\n",
      "鳳山 19\n",
      "大寮 -1\n",
      "林園 27\n",
      "楠梓 16\n",
      "左營 21\n",
      "前金 21\n",
      "前鎮 20\n",
      "小港 13\n",
      "屏東 40\n",
      "潮州 13\n",
      "恆春 13\n",
      "臺東 15\n",
      "花蓮 22\n",
      "陽明 8\n",
      "宜蘭 16\n",
      "冬山 16\n",
      "三重 36\n",
      "中壢 22\n",
      "永和 27\n",
      "復興 17\n",
      "埔里 26\n",
      "馬祖 23\n",
      "金門 18\n",
      "馬公 13\n",
      "關山 15\n",
      "麥寮 27\n",
      "新店 28\n"
     ]
    }
   ],
   "source": [
    "for s in AQ_data:\n",
    "    if s['PM2.5'] == \"\":\n",
    "        s['PM2.5'] = \"-1\"\n",
    "    print s['SiteName'], s['PM2.5']\n",
    "    "
   ]
  },
  {
   "cell_type": "markdown",
   "metadata": {},
   "source": [
    "## 03-2. PM2.5 value scaler --> See your assignment\n",
    "* (40%) PM2.5的值會被對應到1~10一共10個ranks，從最輕到最嚴重，請照[PM2.5 scale](http://taqm.epa.gov.tw/taqm/tw/fpmi-2.aspx)的說明，利用if-else（或其他方法）將PM2.5的值對應至1-10。\n",
    "* [PM2.5 index](http://taqm.epa.gov.tw/taqm/tw/Pm25Index.aspx)"
   ]
  },
  {
   "cell_type": "code",
   "execution_count": 11,
   "metadata": {
    "collapsed": true
   },
   "outputs": [],
   "source": [
    "def distance_on_unit_sphere(lat1, long1, lat2, long2):\n",
    "    # Convert latitude and longitude to \n",
    "    # spherical coordinates in radians.\n",
    "    degrees_to_radians = math.pi/180.0\n",
    "         \n",
    "    # phi = 90 - latitude\n",
    "    phi1 = (90.0 - lat1)*degrees_to_radians\n",
    "    phi2 = (90.0 - lat2)*degrees_to_radians\n",
    "         \n",
    "    # theta = longitude\n",
    "    theta1 = long1*degrees_to_radians\n",
    "    theta2 = long2*degrees_to_radians\n",
    "         \n",
    "    # Compute spherical distance from spherical coordinates.\n",
    "         \n",
    "    # For two locations in spherical coordinates \n",
    "    # (1, theta, phi) and (1, theta, phi)\n",
    "    # cosine( arc length ) = \n",
    "    #    sin phi sin phi' cos(theta-theta') + cos phi cos phi'\n",
    "    # distance = rho * arc length\n",
    "     \n",
    "    cos = (math.sin(phi1)*math.sin(phi2)*math.cos(theta1 - theta2) + \n",
    "           math.cos(phi1)*math.cos(phi2))\n",
    "    arc = math.acos( cos )\n",
    "    # Remember to multiply arc by the radius of the earth \n",
    "    # in your favorite set of units to get length.\n",
    "    return arc*6373\n",
    "# print distance_on_unit_sphere(22.9979057, 120.22208048, 22.99774354, 120.22210156)"
   ]
  }
 ],
 "metadata": {
  "anaconda-cloud": {},
  "kernelspec": {
   "display_name": "Python [Root]",
   "language": "python",
   "name": "Python [Root]"
  },
  "language_info": {
   "codemirror_mode": {
    "name": "ipython",
    "version": 2
   },
   "file_extension": ".py",
   "mimetype": "text/x-python",
   "name": "python",
   "nbconvert_exporter": "python",
   "pygments_lexer": "ipython2",
   "version": "2.7.12"
  }
 },
 "nbformat": 4,
 "nbformat_minor": 0
}
