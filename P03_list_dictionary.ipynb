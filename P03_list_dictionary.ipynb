{
 "cells": [
  {
   "cell_type": "markdown",
   "metadata": {},
   "source": [
    "# Index\n",
    "1. List\n",
    "2. Practice: read csv into two-layers list\n",
    "3. Dictionary\n",
    "4. Practice: traversing ubike data by dictionary and list"
   ]
  },
  {
   "cell_type": "markdown",
   "metadata": {},
   "source": [
    "# LIST\n",
    "* `list`所要學習的內容包含以下幾個項目\n",
    "    1. **Definition**: An ordered sequence\n",
    "    2. **Access**: Access by index, from head or tail\n",
    "    3. **Update**: `.pop()` from tail, `.extends()` multiple element, `.append()` one element\n",
    "\n",
    "\n",
    "* `list`（你可以中譯為串列，上課中會說`list`）。顧名思義，「a list of something」，通常代表的是「something arranged in order」。也就是把一群物件、東西、數值、變數照順序排好。`list`就是這樣的結構。只要放進`list`中，他就會被給予一個整數編號，而整數編號從0開始編起。\n",
    "```\n",
    "alist = []\n",
    "alist = [3, 4, 5]\n",
    "```\n",
    "* 原則上`list`中的內容不一定要同型態，`list`中也可以有`list`，也可以同時有`float`、`int`或`str`等多種變數型態的數值。但多半在實際寫程式時，會盡量讓`list`中內容的變數型態維持一致。"
   ]
  },
  {
   "cell_type": "markdown",
   "metadata": {},
   "source": [
    "## Access a list\n",
    "* 如上例，3就放置在`alist`的0的位置，標示為`alist[0]`；4就放置在`alist`的1的位置，標示為`alist[1]`。\n",
    "* 當要存取一個list中某一個內容時，會需要用整數的編號來存取。例如\n",
    "`alist[3] = 4`"
   ]
  },
  {
   "cell_type": "code",
   "execution_count": 3,
   "metadata": {},
   "outputs": [
    {
     "name": "stdout",
     "output_type": "stream",
     "text": [
      "1\n",
      "9\n",
      "8\n",
      "[10, 9, 8, 7, 6, 5, 4, 3, 2, 1]\n",
      "5\n",
      "1\n",
      "10\n",
      "1\n",
      "7\n"
     ]
    },
    {
     "ename": "TypeError",
     "evalue": "'int' object is not subscriptable",
     "output_type": "error",
     "traceback": [
      "\u001b[0;31m---------------------------------------------------------------------------\u001b[0m",
      "\u001b[0;31mTypeError\u001b[0m                                 Traceback (most recent call last)",
      "\u001b[0;32m<ipython-input-3-0c563ec9d46f>\u001b[0m in \u001b[0;36m<module>\u001b[0;34m()\u001b[0m\n\u001b[1;32m      9\u001b[0m \u001b[0mprint\u001b[0m\u001b[0;34m(\u001b[0m\u001b[0malist\u001b[0m\u001b[0;34m[\u001b[0m\u001b[0mlen\u001b[0m\u001b[0;34m(\u001b[0m\u001b[0malist\u001b[0m\u001b[0;34m)\u001b[0m\u001b[0;34m-\u001b[0m\u001b[0;36m1\u001b[0m\u001b[0;34m]\u001b[0m\u001b[0;34m)\u001b[0m \u001b[0;31m# forget it!!\u001b[0m\u001b[0;34m\u001b[0m\u001b[0m\n\u001b[1;32m     10\u001b[0m \u001b[0mprint\u001b[0m\u001b[0;34m(\u001b[0m\u001b[0malist\u001b[0m\u001b[0;34m[\u001b[0m\u001b[0;36m3\u001b[0m\u001b[0;34m]\u001b[0m\u001b[0;34m)\u001b[0m\u001b[0;34m\u001b[0m\u001b[0m\n\u001b[0;32m---> 11\u001b[0;31m \u001b[0mprint\u001b[0m\u001b[0;34m(\u001b[0m\u001b[0malist\u001b[0m\u001b[0;34m[\u001b[0m\u001b[0;36m3\u001b[0m\u001b[0;34m]\u001b[0m\u001b[0;34m[\u001b[0m\u001b[0;36m1\u001b[0m\u001b[0;34m]\u001b[0m\u001b[0;34m)\u001b[0m\u001b[0;34m\u001b[0m\u001b[0m\n\u001b[0m\u001b[1;32m     12\u001b[0m \u001b[0mprint\u001b[0m\u001b[0;34m(\u001b[0m\u001b[0malist\u001b[0m\u001b[0;34m[\u001b[0m\u001b[0;34m-\u001b[0m\u001b[0;36m1\u001b[0m\u001b[0;34m]\u001b[0m\u001b[0;34m[\u001b[0m\u001b[0;36m4\u001b[0m\u001b[0;34m]\u001b[0m\u001b[0;34m[\u001b[0m\u001b[0;36m1\u001b[0m\u001b[0;34m]\u001b[0m\u001b[0;34m)\u001b[0m\u001b[0;34m\u001b[0m\u001b[0m\n",
      "\u001b[0;31mTypeError\u001b[0m: 'int' object is not subscriptable"
     ]
    }
   ],
   "source": [
    "alist = [10, 9, 8, 7, 6, 5, 4, 3, 2, 1]\n",
    "print(alist[-1])\n",
    "print(alist[1])\n",
    "print(alist[2])\n",
    "print(alist)\n",
    "print(alist[5])\n",
    "print(alist[-1]) # forget it!!\n",
    "print(len(alist)) # length of \n",
    "print(alist[len(alist)-1]) # forget it!!\n",
    "print(alist[3])\n",
    "print(alist[3][1])\n",
    "print(alist[-1][4][1])"
   ]
  },
  {
   "cell_type": "markdown",
   "metadata": {},
   "source": [
    "## list Slicing\n",
    "* 有時候我們不只要取出一個元素，而是要取出list中第n個到第m個元素。\n",
    "* 下面程式碼可取出list中最後一個元素，或者取其中數個元素。以alist[1:3]為例，其取index從1開始到3__之前__。所以是1與2。而alist[-3:-1]則是取-3開始到-1__之前__。"
   ]
  },
  {
   "cell_type": "code",
   "execution_count": 4,
   "metadata": {},
   "outputs": [
    {
     "name": "stdout",
     "output_type": "stream",
     "text": [
      "1\n",
      "[9, 8]\n",
      "[3, 2]\n"
     ]
    }
   ],
   "source": [
    "print(alist[-1]) # the last element\n",
    "print(alist[1:3])\n",
    "print(alist[-3:-1])"
   ]
  },
  {
   "cell_type": "markdown",
   "metadata": {},
   "source": [
    "## Update a list"
   ]
  },
  {
   "cell_type": "code",
   "execution_count": 1,
   "metadata": {},
   "outputs": [
    {
     "ename": "NameError",
     "evalue": "name 'alist' is not defined",
     "output_type": "error",
     "traceback": [
      "\u001b[0;31m---------------------------------------------------------------------------\u001b[0m",
      "\u001b[0;31mNameError\u001b[0m                                 Traceback (most recent call last)",
      "\u001b[0;32m<ipython-input-1-760159b2e6e5>\u001b[0m in \u001b[0;36m<module>\u001b[0;34m()\u001b[0m\n\u001b[0;32m----> 1\u001b[0;31m \u001b[0malist\u001b[0m\u001b[0;34m.\u001b[0m\u001b[0mappend\u001b[0m\u001b[0;34m(\u001b[0m\u001b[0;36m3\u001b[0m\u001b[0;34m)\u001b[0m\u001b[0;34m\u001b[0m\u001b[0m\n\u001b[0m\u001b[1;32m      2\u001b[0m \u001b[0malist\u001b[0m\u001b[0;34m.\u001b[0m\u001b[0mappend\u001b[0m\u001b[0;34m(\u001b[0m\u001b[0;36m4\u001b[0m\u001b[0;34m)\u001b[0m\u001b[0;34m\u001b[0m\u001b[0m\n\u001b[1;32m      3\u001b[0m \u001b[0malist\u001b[0m\u001b[0;34m.\u001b[0m\u001b[0mextend\u001b[0m\u001b[0;34m(\u001b[0m\u001b[0;34m[\u001b[0m\u001b[0;36m3\u001b[0m\u001b[0;34m,\u001b[0m \u001b[0;36m4\u001b[0m\u001b[0;34m,\u001b[0m \u001b[0;36m5\u001b[0m\u001b[0;34m]\u001b[0m\u001b[0;34m)\u001b[0m\u001b[0;34m\u001b[0m\u001b[0m\n\u001b[1;32m      4\u001b[0m \u001b[0malist\u001b[0m\u001b[0;34m.\u001b[0m\u001b[0mappend\u001b[0m\u001b[0;34m(\u001b[0m\u001b[0;34m[\u001b[0m\u001b[0;36m3\u001b[0m\u001b[0;34m,\u001b[0m \u001b[0;36m4\u001b[0m\u001b[0;34m,\u001b[0m \u001b[0;36m5\u001b[0m\u001b[0;34m]\u001b[0m\u001b[0;34m)\u001b[0m\u001b[0;34m\u001b[0m\u001b[0m\n\u001b[1;32m      5\u001b[0m \u001b[0mprint\u001b[0m\u001b[0;34m(\u001b[0m\u001b[0malist\u001b[0m\u001b[0;34m)\u001b[0m\u001b[0;34m\u001b[0m\u001b[0m\n",
      "\u001b[0;31mNameError\u001b[0m: name 'alist' is not defined"
     ]
    }
   ],
   "source": [
    "alist.append(3)\n",
    "alist.append(4)\n",
    "alist.extend([3, 4, 5])\n",
    "alist.append([3, 4, 5])\n",
    "print(alist)"
   ]
  },
  {
   "cell_type": "code",
   "execution_count": 27,
   "metadata": {},
   "outputs": [
    {
     "name": "stdout",
     "output_type": "stream",
     "text": [
      "8\n",
      "[1, 2, 3, {}] <class 'list'>\n",
      "{} <class 'dict'>\n"
     ]
    }
   ],
   "source": [
    "bdict = {} # cdict = dict()\n",
    "alist = [1, 2, 3, 4, 'abc', '123', '123.1', [1, 2, 3, bdict] ]\n",
    "print(len(alist)) #length len()\n",
    "print(alist[7], type(alist[7]))\n",
    "print(alist[7][3], type(alist[7][3])) # index"
   ]
  },
  {
   "cell_type": "markdown",
   "metadata": {},
   "source": [
    "# dictionary\n",
    "* dictionary（你可以中譯為「字典」，但上課會直接稱之為dict）如同其字面上的意思，是給人就單字查詢意義的。在python中也不例外，他所存放的是「key to value pairs」。所以實際上他的內容並沒有順序，所以他不像list是用index 0, 1, 2...來存取。他是用key來存取value。\n",
    "* 在下面的例子中`adict[1]`所對應的值就是`3`，`2`所對應的值就是`4`。\n",
    "```\n",
    "adict = {1:3, '2':4}\n",
    "```\n",
    "* 要注意的是，key和value，其中的value也可以是list，或者是另一個dictionary。而一個list中，也可以擺放很多個dictionary，簡單地說，就是list中可以有dictionary，dictionary可對應到list。\n",
    "* 唯獨要注意的是，list或dictionary，不可以當作dictionary的key，這是為了怕寫程式的人亂改list或dictionary作為key的值，導致對應錯誤。但tuple可以作為dictionary的key。"
   ]
  },
  {
   "cell_type": "code",
   "execution_count": 8,
   "metadata": {},
   "outputs": [
    {
     "ename": "TypeError",
     "evalue": "'int' object is not subscriptable",
     "output_type": "error",
     "traceback": [
      "\u001b[0;31m---------------------------------------------------------------------------\u001b[0m",
      "\u001b[0;31mTypeError\u001b[0m                                 Traceback (most recent call last)",
      "\u001b[0;32m<ipython-input-8-8d340d41c924>\u001b[0m in \u001b[0;36m<module>\u001b[0;34m()\u001b[0m\n\u001b[1;32m      1\u001b[0m \u001b[0madict\u001b[0m \u001b[0;34m=\u001b[0m \u001b[0;34m{\u001b[0m\u001b[0;36m1\u001b[0m\u001b[0;34m:\u001b[0m\u001b[0;36m3\u001b[0m\u001b[0;34m,\u001b[0m \u001b[0;36m2\u001b[0m\u001b[0;34m:\u001b[0m\u001b[0;36m4\u001b[0m\u001b[0;34m,\u001b[0m \u001b[0;36m3\u001b[0m\u001b[0;34m:\u001b[0m\u001b[0;36m5\u001b[0m\u001b[0;34m,\u001b[0m \u001b[0;36m4\u001b[0m\u001b[0;34m:\u001b[0m\u001b[0;36m6\u001b[0m\u001b[0;34m,\u001b[0m \u001b[0;34m'1'\u001b[0m\u001b[0;34m:\u001b[0m\u001b[0;36m3\u001b[0m\u001b[0;34m,\u001b[0m \u001b[0;36m1.13\u001b[0m\u001b[0;34m:\u001b[0m\u001b[0;34m'123'\u001b[0m\u001b[0;34m,\u001b[0m \u001b[0;34m'a'\u001b[0m\u001b[0;34m:\u001b[0m \u001b[0malist\u001b[0m\u001b[0;34m}\u001b[0m\u001b[0;34m\u001b[0m\u001b[0m\n\u001b[0;32m----> 2\u001b[0;31m \u001b[0mprint\u001b[0m\u001b[0;34m(\u001b[0m\u001b[0mtype\u001b[0m\u001b[0;34m(\u001b[0m\u001b[0madict\u001b[0m\u001b[0;34m[\u001b[0m\u001b[0;34m'a'\u001b[0m\u001b[0;34m]\u001b[0m\u001b[0;34m[\u001b[0m\u001b[0;36m7\u001b[0m\u001b[0;34m]\u001b[0m\u001b[0;34m[\u001b[0m\u001b[0;36m3\u001b[0m\u001b[0;34m]\u001b[0m\u001b[0;34m)\u001b[0m\u001b[0;34m,\u001b[0m \u001b[0mlen\u001b[0m\u001b[0;34m(\u001b[0m\u001b[0madict\u001b[0m\u001b[0;34m[\u001b[0m\u001b[0;34m'a'\u001b[0m\u001b[0;34m]\u001b[0m\u001b[0;34m[\u001b[0m\u001b[0;36m7\u001b[0m\u001b[0;34m]\u001b[0m\u001b[0;34m[\u001b[0m\u001b[0;36m3\u001b[0m\u001b[0;34m]\u001b[0m\u001b[0;34m)\u001b[0m\u001b[0;34m)\u001b[0m\u001b[0;34m\u001b[0m\u001b[0m\n\u001b[0m\u001b[1;32m      3\u001b[0m \u001b[0mprint\u001b[0m\u001b[0;34m(\u001b[0m\u001b[0madict\u001b[0m\u001b[0;34m[\u001b[0m\u001b[0;34m'1'\u001b[0m\u001b[0;34m]\u001b[0m\u001b[0;34m)\u001b[0m\u001b[0;34m\u001b[0m\u001b[0m\n\u001b[1;32m      4\u001b[0m \u001b[0mprint\u001b[0m\u001b[0;34m(\u001b[0m\u001b[0madict\u001b[0m\u001b[0;34m[\u001b[0m\u001b[0;36m1.13\u001b[0m\u001b[0;34m]\u001b[0m\u001b[0;34m)\u001b[0m\u001b[0;34m\u001b[0m\u001b[0m\n\u001b[1;32m      5\u001b[0m \u001b[0;34m\u001b[0m\u001b[0m\n",
      "\u001b[0;31mTypeError\u001b[0m: 'int' object is not subscriptable"
     ]
    }
   ],
   "source": [
    "adict = {1:3, 2:4, 3:5, 4:6, '1':3, 1.13:'123', 'a': alist}\n",
    "print(type(adict['a'][7][3]), len(adict['a'][7][3]))\n",
    "print(adict['1'])\n",
    "print(adict[1.13])\n",
    "\n",
    "bdict = {1:3, '1':3, 4:[2, 4]} # initialization"
   ]
  },
  {
   "cell_type": "markdown",
   "metadata": {},
   "source": [
    "## Access dictionary\n"
   ]
  },
  {
   "cell_type": "code",
   "execution_count": 7,
   "metadata": {},
   "outputs": [
    {
     "ename": "NameError",
     "evalue": "name 'bdict' is not defined",
     "output_type": "error",
     "traceback": [
      "\u001b[0;31m---------------------------------------------------------------------------\u001b[0m",
      "\u001b[0;31mNameError\u001b[0m                                 Traceback (most recent call last)",
      "\u001b[0;32m<ipython-input-7-b0a39f5cdaf3>\u001b[0m in \u001b[0;36m<module>\u001b[0;34m()\u001b[0m\n\u001b[1;32m      1\u001b[0m \u001b[0;31m# access the dictionary\u001b[0m\u001b[0;34m\u001b[0m\u001b[0;34m\u001b[0m\u001b[0m\n\u001b[0;32m----> 2\u001b[0;31m \u001b[0mprint\u001b[0m\u001b[0;34m(\u001b[0m\u001b[0mbdict\u001b[0m\u001b[0;34m)\u001b[0m\u001b[0;34m\u001b[0m\u001b[0m\n\u001b[0m\u001b[1;32m      3\u001b[0m \u001b[0mprint\u001b[0m\u001b[0;34m(\u001b[0m\u001b[0mbdict\u001b[0m\u001b[0;34m[\u001b[0m\u001b[0;34m'1'\u001b[0m\u001b[0;34m]\u001b[0m\u001b[0;34m)\u001b[0m\u001b[0;34m\u001b[0m\u001b[0m\n\u001b[1;32m      4\u001b[0m \u001b[0mprint\u001b[0m\u001b[0;34m(\u001b[0m\u001b[0mbdict\u001b[0m\u001b[0;34m[\u001b[0m\u001b[0;36m1\u001b[0m\u001b[0;34m]\u001b[0m\u001b[0;34m)\u001b[0m\u001b[0;34m\u001b[0m\u001b[0m\n\u001b[1;32m      5\u001b[0m \u001b[0mprint\u001b[0m\u001b[0;34m(\u001b[0m\u001b[0mbdict\u001b[0m\u001b[0;34m[\u001b[0m\u001b[0;36m4\u001b[0m\u001b[0;34m]\u001b[0m\u001b[0;34m[\u001b[0m\u001b[0;36m0\u001b[0m\u001b[0;34m]\u001b[0m\u001b[0;34m)\u001b[0m\u001b[0;34m\u001b[0m\u001b[0m\n",
      "\u001b[0;31mNameError\u001b[0m: name 'bdict' is not defined"
     ]
    }
   ],
   "source": [
    "# access the dictionary\n",
    "print(bdict)\n",
    "print(bdict['1'])\n",
    "print(bdict[1])\n",
    "print(bdict[4][0])"
   ]
  },
  {
   "cell_type": "markdown",
   "metadata": {},
   "source": [
    "# Example of accessing the dictionary and list: Accessing json\n",
    "* （[youbike data link](http://data.taipei/opendata/datalist/datasetMeta?oid=8ef1626a-892a-4218-8344-f7ac46e1aa48)）。來自台北市政府的說明「為提供更優質之資料服務，YouBike臺北市公共自行車即時資訊介接網址自10月16日起改為http://data.taipei/youbike \n",
    "檔案格式為經gz壓縮之json檔，請下載後解壓縮使用（部分瀏覽器如Chrome下載後會自動解壓縮，請留意！）；規格調整如右連結http://goo.gl/pmcIo3 此外，「最後更新時間」欄位之內容為詮釋資料更新時間，非資料檔案更新時間，實際資料檔案更新時間為「每1分鐘」，可參考檔案內容之「mday」欄位。」\n",
    "* 獲取youbike資料的流程\n",
    "1. 用`requests`套件的`.get()`獲取該url的回應。\n",
    "2. 將該http request response的文字抽取出來`response.text`，資料型態為`str`\n",
    "3. 將抽取出來的文字，我知道他是用json格式存，因此用`json.loads()`將其轉換為python的資料型態，也就是由層層list與dictionary所套疊起來的資料\n",
    "4. 最後一一存取其內容\n",
    "\n",
    "## 從網路上抓取資料並轉換為python的dictionary與list物件。\n",
    "* 這部分可以先不用管到底做了什麼事情。"
   ]
  },
  {
   "cell_type": "code",
   "execution_count": 2,
   "metadata": {},
   "outputs": [
    {
     "name": "stdout",
     "output_type": "stream",
     "text": [
      "<class 'requests.models.Response'>\n",
      "<class 'str'>\n"
     ]
    }
   ],
   "source": [
    "import requests\n",
    "import json\n",
    "response = requests.get('http://data.taipei/youbike')\n",
    "print(type(response)) # <class 'requests.models.Response'>\n",
    "print(type(response.text)) # <class 'str'>\n",
    "data = json.loads(response.text)"
   ]
  },
  {
   "cell_type": "markdown",
   "metadata": {},
   "source": [
    "## 利用測試的方法測試出一筆資料的結構\n",
    "1. 如果偵測出他是一個list，那就取出第0筆資料往下追蹤。\n",
    "2. 如果偵測出他是一個dict，就用`dict.keys()`將其所有的key給列印出來，然後挑你所需要的key往下追蹤。"
   ]
  },
  {
   "cell_type": "code",
   "execution_count": 3,
   "metadata": {},
   "outputs": [
    {
     "name": "stdout",
     "output_type": "stream",
     "text": [
      "<class 'dict'>\n",
      "type of data <class 'dict'>\n",
      "dict_keys(['retCode', 'retVal'])\n",
      "{'sno': '0137', 'sna': '國防大學', 'tot': '46', 'sbi': '26', 'sarea': '北投區', 'mday': '20181002151038', 'lat': '25.137976', 'lng': '121.493066', 'ar': '中央北路二段/豐年路二段交叉口', 'sareaen': 'Beitou Dist.', 'snaen': 'Nat’l Defense U.', 'aren': 'Sec. 2, Zhongyang N. Rd. / Sec. 2, Fengnian Rd.', 'bemp': '20', 'act': '1'}\n",
      "26\n",
      "46\n"
     ]
    }
   ],
   "source": [
    "print(type(data))\n",
    "print(\"type of data\", type(data))\n",
    "print(data.keys())\n",
    "print(data['retVal']['0137'])\n",
    "print(data['retVal']['0137']['sbi'])\n",
    "print(data['retVal']['0137']['tot'])\n",
    "\n",
    "# for site in data[\"retVal\"]:\n",
    "#     print site\n",
    "#     if float(data[\"retVal\"][site]['sbi'])/int(data[\"retVal\"][site]['tot']) > 0.8:\n",
    "#         print data[\"retVal\"][site][\"sna\"], data[\"retVal\"][site]['sbi'], data[\"retVal\"][site]['tot']"
   ]
  },
  {
   "cell_type": "code",
   "execution_count": 4,
   "metadata": {},
   "outputs": [
    {
     "name": "stdout",
     "output_type": "stream",
     "text": [
      "<class 'dict'>\n",
      "dict_keys(['retCode', 'retVal'])\n",
      "<class 'dict'>\n",
      "dict_keys(['0001', '0002', '0003', '0004', '0005', '0006', '0007', '0008', '0009', '0010', '0011', '0012', '0013', '0014', '0015', '0016', '0017', '0018', '0019', '0020', '0021', '0022', '0023', '0024', '0025', '0026', '0027', '0028', '0029', '0030', '0031', '0032', '0033', '0034', '0035', '0036', '0037', '0038', '0039', '0040', '0041', '0042', '0043', '0044', '0045', '0046', '0047', '0048', '0049', '0050', '0051', '0052', '0053', '0054', '0055', '0056', '0057', '0058', '0059', '0060', '0061', '0062', '0063', '0064', '0065', '0066', '0067', '0068', '0069', '0070', '0071', '0072', '0073', '0074', '0075', '0076', '0077', '0078', '0079', '0080', '0081', '0082', '0083', '0084', '0085', '0086', '0087', '0088', '0089', '0090', '0091', '0092', '0093', '0094', '0095', '0096', '0097', '0098', '0099', '0100', '0101', '0102', '0103', '0104', '0105', '0106', '0107', '0108', '0109', '0110', '0111', '0112', '0113', '0114', '0115', '0116', '0117', '0118', '0119', '0120', '0121', '0122', '0123', '0124', '0125', '0126', '0127', '0128', '0129', '0130', '0131', '0132', '0133', '0134', '0135', '0136', '0137', '0138', '0139', '0140', '0141', '0142', '0143', '0144', '0145', '0146', '0147', '0148', '0149', '0150', '0151', '0152', '0153', '0154', '0155', '0156', '0157', '0158', '0159', '0161', '0162', '0163', '0164', '0165', '0166', '0167', '0168', '0169', '0170', '0171', '0172', '0173', '0174', '0175', '0176', '0177', '0178', '0179', '0180', '0181', '0182', '0183', '0184', '0185', '0186', '0187', '0188', '0189', '0190', '0191', '0192', '0193', '0194', '0195', '0196', '0197', '0201', '0202', '0203', '0204', '0205', '0206', '0207', '0208', '0209', '0210', '0211', '0212', '0213', '0214', '0215', '0216', '0217', '0218', '0219', '0220', '0221', '0222', '0223', '0224', '0225', '0226', '0227', '0228', '0229', '0230', '0231', '0232', '0233', '0234', '0235', '0236', '0237', '0238', '0239', '0240', '0241', '0242', '0243', '0244', '0245', '0246', '0247', '0248', '0249', '0250', '0251', '0252', '0253', '0254', '0255', '0256', '0257', '0258', '0259', '0260', '0261', '0262', '0263', '0264', '0265', '0266', '0267', '0268', '0269', '0270', '0271', '0272', '0273', '0274', '0275', '0276', '0277', '0278', '0279', '0280', '0281', '0282', '0283', '0284', '0285', '0286', '0287', '0288', '0289', '0290', '0291', '0292', '0293', '0294', '0295', '0296', '0297', '0298', '0299', '0300', '0301', '0302', '0303', '0304', '0305', '0306', '0307', '0308', '0309', '0310', '0311', '0312', '0313', '0314', '0315', '0316', '0317', '0318', '0319', '0320', '0321', '0322', '0323', '0324', '0325', '0326', '0327', '0328', '0329', '0330', '0331', '0332', '0333', '0334', '0335', '0336', '0337', '0338', '0339', '0340', '0341', '0342', '0343', '0344', '0345', '0346', '0347', '0348', '0349', '0350', '0351', '0352', '0353', '0354', '0355', '0356', '0357', '0358', '0359', '0360', '0361', '0362', '0363', '0364', '0365', '0366', '0367', '0368', '0369', '0370', '0371', '0372', '0373', '0374', '0375', '0376', '0377', '0378', '0379', '0380', '0381', '0382', '0383', '0384', '0385', '0386', '0387', '0388', '0389', '0390', '0391', '0392', '0393', '0394', '0395', '0396', '0397', '0398', '0399', '0400', '0401', '0402', '0403', '0404'])\n",
      "{'sno': '0134', 'sna': '捷運芝山站(2號出口)', 'tot': '64', 'sbi': '11', 'sarea': '士林區', 'mday': '20181002151019', 'lat': '25.10336', 'lng': '121.522629', 'ar': '福華路/福華路162巷(東南側)', 'sareaen': 'Shilin Dist.', 'snaen': 'MRT Zhishan Sta.(Exit 2)', 'aren': 'Fuhua Rd. / Ln. 162, Fuhua Rd.', 'bemp': '53', 'act': '1'}\n",
      "sno 0134\n",
      "sna 捷運芝山站(2號出口)\n",
      "tot 64\n",
      "sbi 11\n",
      "sarea 士林區\n",
      "mday 20181002151019\n",
      "lat 25.10336\n",
      "lng 121.522629\n",
      "ar 福華路/福華路162巷(東南側)\n",
      "sareaen Shilin Dist.\n",
      "snaen MRT Zhishan Sta.(Exit 2)\n",
      "aren Fuhua Rd. / Ln. 162, Fuhua Rd.\n",
      "bemp 53\n",
      "act 1\n"
     ]
    }
   ],
   "source": [
    "print(type(data))\n",
    "print(data.keys())\n",
    "print(type(data['retVal']))\n",
    "print(data['retVal'].keys())\n",
    "print(data['retVal']['0134'])\n",
    "for k, v in data['retVal']['0134'].items():\n",
    "    print(k, v)"
   ]
  },
  {
   "cell_type": "markdown",
   "metadata": {},
   "source": [
    "# Practice: 計算出每個行政區有多少個ubike站台"
   ]
  },
  {
   "cell_type": "code",
   "execution_count": 22,
   "metadata": {},
   "outputs": [
    {
     "data": {
      "text/plain": [
       "{'信義區': 38,\n",
       " '大安區': 48,\n",
       " '中山區': 46,\n",
       " '松山區': 35,\n",
       " '南港區': 22,\n",
       " '中正區': 34,\n",
       " '萬華區': 22,\n",
       " '文山區': 27,\n",
       " '大同區': 22,\n",
       " '士林區': 36,\n",
       " '內湖區': 42,\n",
       " '北投區': 28}"
      ]
     },
     "execution_count": 22,
     "metadata": {},
     "output_type": "execute_result"
    }
   ],
   "source": [
    "area_dict = {}\n",
    "for key, row in data[\"retVal\"].items():\n",
    "    if row[\"sarea\"] not in area_dict:\n",
    "        area_dict[row[\"sarea\"]] = 1\n",
    "    else:\n",
    "        area_dict[row[\"sarea\"]] += 1\n",
    "area_dict"
   ]
  }
 ],
 "metadata": {
  "kernelspec": {
   "display_name": "Python 3",
   "language": "python",
   "name": "python3"
  },
  "language_info": {
   "codemirror_mode": {
    "name": "ipython",
    "version": 3
   },
   "file_extension": ".py",
   "mimetype": "text/x-python",
   "name": "python",
   "nbconvert_exporter": "python",
   "pygments_lexer": "ipython3",
   "version": "3.6.5"
  },
  "toc": {
   "base_numbering": 1,
   "nav_menu": {},
   "number_sections": true,
   "sideBar": true,
   "skip_h1_title": false,
   "title_cell": "Table of Contents",
   "title_sidebar": "Contents",
   "toc_cell": false,
   "toc_position": {},
   "toc_section_display": true,
   "toc_window_display": true
  }
 },
 "nbformat": 4,
 "nbformat_minor": 1
}
