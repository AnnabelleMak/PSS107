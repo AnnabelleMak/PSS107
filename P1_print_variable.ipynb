{
 "cells": [
  {
   "cell_type": "markdown",
   "metadata": {},
   "source": [
    "# print\n",
    "* 可用於印出字串或數字\n",
    "* 若是數字是一個「運算式」的話，那會印出運算式的結果。"
   ]
  },
  {
   "cell_type": "code",
   "execution_count": 2,
   "metadata": {},
   "outputs": [
    {
     "name": "stdout",
     "output_type": "stream",
     "text": [
      "hello world\n",
      "hello world\n",
      "\"hello world\"\n",
      "----------------------------------------------------------------------------------------------------\n",
      "123\n",
      "19311\n",
      "123*345-(188*123) = \n"
     ]
    }
   ],
   "source": [
    "print 'hello world' #字串 String\n",
    "print \"hello world\" #string\n",
    "print '\"hello world\"'\n",
    "print '-'*100\n",
    "print 123 # number\n",
    "print 123*345-(188*123) # number\n",
    "print \"123*345-(188*123) = \""
   ]
  },
  {
   "cell_type": "markdown",
   "metadata": {},
   "source": [
    "## 列印多筆資料或多項變數\n",
    "「__,__」 可用於列印出各種資料，一個接著一個地列印。逗點表示，白話來說，接下去印的意思。"
   ]
  },
  {
   "cell_type": "code",
   "execution_count": null,
   "metadata": {},
   "outputs": [],
   "source": [
    "print \"123*345-(188*123) = \", 123*345-(188*123)\n",
    "print \"My name is \", 'jilung hsieh', 'my age is ', 36"
   ]
  },
  {
   "cell_type": "markdown",
   "metadata": {},
   "source": [
    "## Escape code 換行符號或tab\n",
    "* [Escape code](https://docs.python.org/2/reference/lexical_analysis.html)遇到這些字的時候，相當於你打開docx檔案時，他問你要不要顯示隱藏字元時的那個隱藏字元。word在換行的時候（也就是你按下Enter的時候）也都會加上換行符號（也就是\\n）。\n",
    "    * \\t --> tab\n",
    "    * \\n --> new line\n",
    "* 每個print結束後都預設print一個換行符號（\\n），若加上一個逗號（,）代表尚未結束，就不會print該換行符號"
   ]
  },
  {
   "cell_type": "code",
   "execution_count": null,
   "metadata": {},
   "outputs": [],
   "source": [
    "print \"\\tMy name is \", 'jilung hsieh\\n', '\\tmy age is ', 36"
   ]
  },
  {
   "cell_type": "markdown",
   "metadata": {},
   "source": [
    "# Variable 變數\n",
    "## Naming of variable 變數的命名\n",
    "* 不可用數字開始，例如 123b = 13a + 14b。當然也不可以是中文。\n",
    "* 中間不得有空白，例如 my book = 13a + 14b (why?)\n",
    "* 不可使用[reserved word](https://docs.python.org/2.5/ref/keywords.html)(why?)   \n",
    "* 關於Python程式寫作的風格，可參考[PEP 0008](https://www.python.org/dev/peps/pep-0008/)，其中，[Naming conventions](https://www.python.org/dev/peps/pep-0008/#naming-conventions)一節有提到變數要如何命名。\n",
    "    * 若全部是大寫的，多半是常數，例如最大寬度、PI的值。\n",
    "    * 若是底線開頭的，應該是區域變數（Local variable，你還不用知道）"
   ]
  },
  {
   "cell_type": "code",
   "execution_count": 4,
   "metadata": {},
   "outputs": [],
   "source": [
    "a = 3\n",
    "b = 4\n",
    "c = a + b\n",
    "_a, _b, _c = 1, 2, 3\n",
    "MAXWIDTH = 60\n",
    "# and, for = 1, 2\n",
    "# print and, for"
   ]
  },
  {
   "cell_type": "code",
   "execution_count": 5,
   "metadata": {},
   "outputs": [
    {
     "name": "stdout",
     "output_type": "stream",
     "text": [
      "3 2\n"
     ]
    }
   ],
   "source": [
    "a, b = 2, 3\n",
    "a, b = b, a\n",
    "print a, b"
   ]
  },
  {
   "cell_type": "markdown",
   "metadata": {},
   "source": [
    "## Data type 資料型態、變數型態\n",
    "* list, dictionary是python這個程式語言的內建資料型態。請參閱[5. Built-in Types](https://docs.python.org/2/library/stdtypes.html)\n",
    "* 上述章節中一共有以下幾種資料型態\n",
    "    * 真偽True and false\n",
    "    * 數值Numeric Types— int, float, long, complex\n",
    "    * 序列Sequence Types— str, unicode, list, tuple, bytearray, buffer, xrange\n",
    "    * 集合Set Types— set, frozenset\n",
    "    * 對應Mapping Types— dict\n",
    "    * 檔案File Objects\n",
    "* 範例\n",
    "    * string: e.g., a = '12.3'\n",
    "    * floating point number: e.g., b = 12.3\n",
    "    * integer: e.g., c = 123\n",
    "    * list: alist = []\n",
    "    * dictionary: bdict = {1:2, 3:4, '5':6, '7':'8', 9:'10.11', 12:[13, 14, 15], 13:{14:'15', '16':[17, 18]}} \n",
    "    * tuple: ab = (1, 2, 3)"
   ]
  },
  {
   "cell_type": "markdown",
   "metadata": {},
   "source": [
    "## Variables型態的確定：使用Assignment\n",
    "* 變數使用Assignment（指派）來讓程式知道該變數的變數型態為何。\n",
    "* 下例把2指派給a，那麼a就是整數的2；若把2.0指派給a，那麼a就會是浮點數的a。\n",
    "* 一定是把右方的內容（右方可能是數值也可能是變數）指定給左方的變數。"
   ]
  },
  {
   "cell_type": "code",
   "execution_count": null,
   "metadata": {},
   "outputs": [],
   "source": [
    "a = 2 # integer\n",
    "b = 3.0 # floating point number\n",
    "c = '1.123' # string\n",
    "d = \"2\" # string"
   ]
  },
  {
   "cell_type": "code",
   "execution_count": null,
   "metadata": {},
   "outputs": [],
   "source": [
    "# assign the right part to left part\n",
    "a = a + b\n",
    "print a, b"
   ]
  },
  {
   "cell_type": "markdown",
   "metadata": {},
   "source": [
    "## type() to confirm variable type 用以確認變數型態"
   ]
  },
  {
   "cell_type": "code",
   "execution_count": null,
   "metadata": {},
   "outputs": [],
   "source": [
    "a = 1 # integer\n",
    "b = 1 # floating point number\n",
    "c = '1.123' # string\n",
    "d = \"1\" # string\n",
    "print type(int(str(a)))\n",
    "print float(a)\n",
    "print int(float(c)) # string\n",
    "print type(d) # string\n",
    "\n",
    "a, b, c = '2', 2, 2.0\n",
    "print type(a), type(b), type(c)\n",
    "\n",
    "d, e = [], {}\n",
    "print type(d), type(e)"
   ]
  },
  {
   "cell_type": "markdown",
   "metadata": {},
   "source": [
    "## print formatting 依照變數型態和位置列印內容\n",
    "* [String print formatting](https://docs.python.org/2/library/string.html)。以__print \"my name is %s, age %s\"%(name, 36.1234567)__為例，其表示要將後面那兩個變數或者數值的內容，放到前面兩個%s的位置，且%s是表示，要用字串來輸出。\n",
    "    * __%d__ means printing as decimal number\n",
    "    * __%s__ means printing as string\n",
    "    * __%f__ means print as floating point number\n",
    "* 你可以參考這篇[PyFormat](https://pyformat.info/)來了解__%d__和__.format()__另外一種print formatting的寫法。"
   ]
  },
  {
   "cell_type": "code",
   "execution_count": null,
   "metadata": {},
   "outputs": [],
   "source": [
    "name = \"JILUNG HSIEH\"\n",
    "age = 38\n",
    "print \"Your name is \", name\n",
    "print \"Your name is %s ! Your age is %s! \"%(name, age)\n",
    "print \"Your name is %s ! You age is %s\"%('jilung', 38) # 38 is converted to string"
   ]
  },
  {
   "cell_type": "markdown",
   "metadata": {},
   "source": [
    "### Question: 前面的formatted slot和後面的argument數量要相同，若不相同會怎樣？\n",
    "例如下面這個例子中，後面的arguments只有一個，前面則有兩個formatted slot。"
   ]
  },
  {
   "cell_type": "code",
   "execution_count": null,
   "metadata": {},
   "outputs": [],
   "source": [
    "print \"Your name is %s ! You age is %s\"%('jilung')"
   ]
  },
  {
   "cell_type": "markdown",
   "metadata": {},
   "source": [
    "而下面這個是少一個formatted slot，後面有兩個變數，前面僅有一個%s。"
   ]
  },
  {
   "cell_type": "code",
   "execution_count": null,
   "metadata": {},
   "outputs": [],
   "source": [
    "print \"Your name is ! Your age is %s! \"%(name, age)"
   ]
  },
  {
   "cell_type": "markdown",
   "metadata": {},
   "source": [
    "# LIST, DICTIONARY\n",
    "## LIST\n",
    "* list（你可以中譯為串列，老師上課會說list）。顧名思義，「a list of something」，通常代表的是「something arranged in order」。也就是把一群物件、東西、數值、變數照順序排好。list就是這樣的結構。只要放進list中，他就會被給予一個整數編號，而整數編號從0開始編起。\n",
    "        alist = []\n",
    "        alist = [3, 4, 5]\n",
    "* 如上例，3就放置在alist的0的位置，標示為alist[0]；4就放置在alist的1的位置，標示為alist[1]。\n",
    "* 當要存取一個list中某一個內容時，會需要用整數的編號來存取。例如\n",
    "        print alist[1]\n",
    "        print alist[2]\n",
    "* 除此之外，顧名思義，原則上list中的內容不一定要同型態，list中也可以有list，也可以同時有float、int或str。但多半在實際寫程式時，會盡量讓list中的內容維持一致。"
   ]
  },
  {
   "cell_type": "markdown",
   "metadata": {},
   "source": [
    "## Access list\n",
    "    print alist\n",
    "    print alist[5] \n",
    "    print alist[-1] # forget it!!\n",
    "    print len(alist) # length of \n",
    "    print alist[len(alist)-1] # forget it!!\n",
    "    print alist[3]\n",
    "    print alist[3][1]\n",
    "    print alist[-1][4][1]"
   ]
  },
  {
   "cell_type": "code",
   "execution_count": 10,
   "metadata": {},
   "outputs": [
    {
     "name": "stdout",
     "output_type": "stream",
     "text": [
      "1\n",
      "[10, 9, 8, 7, 6, 5, 4, 3, 2, 1, 3, 4, 3, 4, 5, [3, 4, 5]]\n"
     ]
    }
   ],
   "source": [
    "alist = [10, 9, 8, 7, 6, 5, 4, 3, 2, 1]\n",
    "print alist[-1]\n",
    "alist.append(3)\n",
    "alist.append(4)\n",
    "alist.extend([3, 4, 5])\n",
    "alist.append([3, 4, 5])\n",
    "print alist"
   ]
  },
  {
   "cell_type": "code",
   "execution_count": null,
   "metadata": {},
   "outputs": [],
   "source": [
    "bdict = {} # cdict = dict()\n",
    "alist = [1, 2, 3, 4, 'abc', '123', '123.1', [1, 2, 3, bdict] ]\n",
    "print len(alist) #length len()\n",
    "print alist[7], type(alist[7])\n",
    "print alist[7][3], type(alist[7][3]) # index"
   ]
  },
  {
   "cell_type": "markdown",
   "metadata": {},
   "source": [
    "## LIST Slicing\n",
    "下面程式碼可取出list中最後一個元素，或者取其中數個元素。以alist[1:3]為例，其取index從1開始到3__之前__。所以是1與2。而alist[-3:-1]則是取-3開始到-1__之前__。"
   ]
  },
  {
   "cell_type": "code",
   "execution_count": 11,
   "metadata": {},
   "outputs": [
    {
     "name": "stdout",
     "output_type": "stream",
     "text": [
      "[3, 4, 5]\n",
      "[9, 8]\n",
      "[4, 5]\n"
     ]
    }
   ],
   "source": [
    "print alist[-1] # the last element\n",
    "print alist[1:3]\n",
    "print alist[-3:-1]"
   ]
  },
  {
   "cell_type": "markdown",
   "metadata": {},
   "source": [
    "## dictionary\n",
    "* dictionary（你可以中譯為「字典」，但上課會直接講英文）如同其字面上的意思，是給人就單字查詢意義的。在python中也不例外，他所存放的是「0 or more key to value pairs」。所以實際上他的內容並沒有順序，所以他不像list是用index 0, 1, 2...來存取。他是用key來存取value。\n",
    "* 在下面的例子中adict[1]所對應的值就是3，'2'所對應的值就是4。\n",
    "        adict = {1:3, '2':4}\n",
    "* 要注意的是，key和value，其中value也可以是list，或者是另一個dictionary。而一個list中，也可以擺放很多個dictionary，簡單地說，就是list中可以有dictionary，dictionary可對應到list。\n",
    "* 唯獨要注意的是，list或dictionary，不可以當作dictionary的key，這是為了怕寫程式的人亂改list或dictionary作為key的值，導致對應錯誤。但tuple可以作為dictionary的key。"
   ]
  },
  {
   "cell_type": "code",
   "execution_count": null,
   "metadata": {},
   "outputs": [],
   "source": [
    "adict = {1:3, 2:4, 3:5, 4:6, '1':3, 1.13:'123', 'a': alist}\n",
    "print type(adict['a'][7][3]), len(adict['a'][7][3])\n",
    "print adict['1']\n",
    "print adict[1.13]\n",
    "\n",
    "bdict = {1:3, '1':3, 4:[2, 4]} # initialization\n",
    "# print type(alist), type(bdict)"
   ]
  },
  {
   "cell_type": "markdown",
   "metadata": {},
   "source": [
    "## Access dictionary\n",
    "    print bdict\n",
    "    print bdict['1']\n",
    "    print bdict[1]\n",
    "    print bdict[4][0]"
   ]
  },
  {
   "cell_type": "code",
   "execution_count": null,
   "metadata": {},
   "outputs": [],
   "source": [
    "# access the dictionary\n"
   ]
  },
  {
   "cell_type": "markdown",
   "metadata": {},
   "source": [
    "# Example of accessing the dictionary and list: Accessing json\n",
    "* （[youbike data link](http://data.taipei/opendata/datalist/datasetMeta?oid=8ef1626a-892a-4218-8344-f7ac46e1aa48)）。來自台北市政府的說明「為提供更優質之資料服務，YouBike臺北市公共自行車即時資訊介接網址自10月16日起改為http://data.taipei/youbike \n",
    "檔案格式為經gz壓縮之json檔，請下載後解壓縮使用（部分瀏覽器如Chrome下載後會自動解壓縮，請留意！）；規格調整如右連結http://goo.gl/pmcIo3 此外，「最後更新時間」欄位之內容為詮釋資料更新時間，非資料檔案更新時間，實際資料檔案更新時間為「每1分鐘」，可參考檔案內容之「mday」欄位。」\n",
    "* 標準獲取youbike資料的流程\n",
    "    1. 用urllib獲取該資料檔，並命名為data.gz\n",
    "    2. 用gzip將該資料的壓縮檔打開並讀取內容\n",
    "    3. 讀取的內容為一json檔案，用json.loads()將其轉換為list+dictionary的格式。\n",
    "    4. 最後一一存取其內容"
   ]
  },
  {
   "cell_type": "code",
   "execution_count": 14,
   "metadata": {},
   "outputs": [],
   "source": [
    "import urllib\n",
    "import json\n",
    "import gzip\n",
    "url = 'http://data.taipei/youbike'\n",
    "urllib.urlretrieve(url, \"data.gz\")\n",
    "jdata = gzip.open('data.gz', 'r').read()\n",
    "\n",
    "# print type(jdata)\n",
    "data = json.loads(jdata)\n",
    "# print \"type of data\", type(data)\n",
    "# print data.keys()\n",
    "# print data['retVal']['0137']\n",
    "# print data['retVal']['0137']['sbi']\n",
    "# print data['retVal']['0137']['tot']\n",
    "\n",
    "\n",
    "# for site in data[\"retVal\"]:\n",
    "#     print site\n",
    "#     if float(data[\"retVal\"][site]['sbi'])/int(data[\"retVal\"][site]['tot']) > 0.8:\n",
    "#         print data[\"retVal\"][site][\"sna\"], data[\"retVal\"][site]['sbi'], data[\"retVal\"][site]['tot']"
   ]
  },
  {
   "cell_type": "code",
   "execution_count": 25,
   "metadata": {},
   "outputs": [
    {
     "name": "stdout",
     "output_type": "stream",
     "text": [
      "<type 'dict'>\n",
      "[u'retVal', u'retCode']\n",
      "<type 'dict'>\n",
      "mday 20160829122416\n",
      "sareaen Shilin Dist.\n",
      "sna 捷運芝山站(2號出口)\n",
      "aren Fuhua Rd. / Ln. 162, Fuhua Rd.\n",
      "sno 0134\n",
      "tot 64\n",
      "snaen MRT Zhishan Sta.(Exit 2)\n",
      "bemp 41\n",
      "ar 福華路/福華路162巷(東南側)\n",
      "act 1\n",
      "lat 25.10336\n",
      "lng 121.522629\n",
      "sbi 23\n",
      "sarea 士林區\n"
     ]
    }
   ],
   "source": [
    "print type(data)\n",
    "print data.keys()\n",
    "print type(data['retVal'])\n",
    "# print data['retVal'].keys()\n",
    "# print data['retVal']['0134']\n",
    "for k, v in data['retVal']['0134'].items():\n",
    "    print k, v\n"
   ]
  },
  {
   "cell_type": "markdown",
   "metadata": {},
   "source": [
    "## Youbike單場站的資料\n",
    "* 現在存取一個比較簡單的部分，以下的temp_data所對應到的是一個場站的資料，為一個dictionary。分別是各個資料欄位對應到該資料欄位的值。 例如該場站的\n",
    "    * 編號sno為0134\n",
    "    * 所剩腳踏車數sbi為12台\n",
    "    * 總腳踏車停車格tot為64格\n",
    "    * 腳踏車站的中文名為sna\n",
    "* 此時若要存取腳踏車站的中文名，要用\n",
    "temp_data['sna']\n",
    "* __注意，前面有個u的字串代表是unicode，先暫時不處理他，後續有一點基礎再說明。__\n"
   ]
  },
  {
   "cell_type": "code",
   "execution_count": null,
   "metadata": {
    "collapsed": true
   },
   "outputs": [],
   "source": [
    "temp_data = 123"
   ]
  },
  {
   "cell_type": "code",
   "execution_count": null,
   "metadata": {},
   "outputs": [],
   "source": [
    "# print data[\"retVal\"]\n",
    "temp_data = {u'mday': u'20160307001432', \n",
    "             u'sareaen': u'Shilin Dist.', \n",
    "             u'sna': u'\\u6377\\u904b\\u829d\\u5c71\\u7ad9(2\\u865f\\u51fa\\u53e3)', \n",
    "             u'aren': u'Fuhua Rd. / Ln. 162, Fuhua Rd.', \n",
    "             u'sno': u'0134', \n",
    "             u'tot': u'64', \n",
    "             u'snaen': u'MRT Zhishan Sta.(Exit 2)', \n",
    "             u'bemp': u'49', \n",
    "             u'ar': u'\\u798f\\u83ef\\u8def/\\u798f\\u83ef\\u8def162\\u5df7(\\u6771\\u5357\\u5074)', \n",
    "             u'act': u'1', \n",
    "             u'lat': u'25.10336', \n",
    "             u'lng': u'121.522629', \n",
    "             u'sbi': u'12', \n",
    "             u'sarea': u'\\u58eb\\u6797\\u5340'}\n"
   ]
  },
  {
   "cell_type": "markdown",
   "metadata": {},
   "source": [
    "### Practice\n",
    "請嘗試解決以下問題\n",
    "1. 存取其他欄位\n",
    "2. 用百分比表示該場站的腳踏車滿站比例（剩餘的腳踏車數/總車格*100%）。\n",
    "\n"
   ]
  },
  {
   "cell_type": "code",
   "execution_count": null,
   "metadata": {},
   "outputs": [],
   "source": [
    "print temp_data['sarea']"
   ]
  },
  {
   "cell_type": "markdown",
   "metadata": {},
   "source": [
    "但其實他的資料是這麼存的，他用一個大的Dictionary來存放所有腳踏車站的資料，例如"
   ]
  },
  {
   "cell_type": "code",
   "execution_count": null,
   "metadata": {},
   "outputs": [],
   "source": [
    "temp_data = {u'0134': {u'mday': u'20160307001432', u'sareaen': u'Shilin Dist.', u'sna':u'\\u6377\\u904b\\u829d\\u5c71\\u7ad9(2\\u865f\\u51fa\\u53e3)', u'aren': u'Fuhua Rd. / Ln. 162, Fuhua Rd.', u'sno': u'0134', u'tot': u'64', u'snaen': u'MRT Zhishan Sta.(Exit 2)', u'bemp': u'49', u'ar': u'\\u798f\\u83ef\\u8def/\\u798f\\u83ef\\u8def162\\u5df7(\\u6771\\u5357\\u5074)', u'act': u'1', u'lat': u'25.10336', u'lng': u'121.522629', u'sbi': u'12', u'sarea': u'\\u58eb\\u6797\\u5340'}, \n",
    "             u'0135': {u'mday': u'20160307001425', u'sareaen': u'Beitou Dist.', u'sna': u'\\u6377\\u904b\\u77f3\\u724c\\u7ad9(2\\u865f\\u51fa\\u53e3)', u'aren': u'Sec. 1, Donghua St. / Yumin 2nd Rd.', u'sno': u'0135', u'tot': u'54', u'snaen': u'MRT Shipai Sta. (Exit 2)', u'bemp': u'37', u'ar': u'\\u6771\\u83ef\\u8857\\u4e00\\u6bb5/\\u88d5\\u6c11\\u4e8c\\u8def(\\u897f\\u5074)', u'act': u'1', u'lat': u'25.114513', u'lng': u'121.515677', u'sbi': u'15', u'sarea': u'\\u5317\\u6295\\u5340'}, \n",
    "             u'0136': {u'mday': u'20160307001424', u'sareaen': u'Beitou Dist.', u'sna': u'\\u570b\\u7acb\\u81fa\\u5317\\u8b77\\u7406\\u5065\\u5eb7\\u5927\\u5b78', u'aren': u'Ln. 130, Sec. 2, Shipai Rd. / Sec. 2, Shipai Rd.', u'sno': u'0136', u'tot': u'30', u'snaen': u'NTUNHS', u'bemp': u'22', u'ar': u'\\u77f3\\u724c\\u8def\\u4e8c\\u6bb5130\\u5df7/\\u77f3\\u724c\\u8def\\u4e8c\\u6bb5(\\u6771\\u5357\\u5074)', u'act': u'1', u'lat': u'25.118049', u'lng': u'121.517512', u'sbi': u'8', u'sarea': u'\\u5317\\u6295\\u5340'}\n",
    "            }\n",
    "print temp_data['0134']['sna']"
   ]
  },
  {
   "cell_type": "markdown",
   "metadata": {},
   "source": [
    "不但如此，他外面還包一層dictionary"
   ]
  },
  {
   "cell_type": "code",
   "execution_count": null,
   "metadata": {},
   "outputs": [],
   "source": [
    "full_data = {'retVal':{u'0134': {u'mday': u'20160307001432', u'sareaen': u'Shilin Dist.', u'sna':u'\\u6377\\u904b\\u829d\\u5c71\\u7ad9(2\\u865f\\u51fa\\u53e3)', u'aren': u'Fuhua Rd. / Ln. 162, Fuhua Rd.', u'sno': u'0134', u'tot': u'64', u'snaen': u'MRT Zhishan Sta.(Exit 2)', u'bemp': u'49', u'ar': u'\\u798f\\u83ef\\u8def/\\u798f\\u83ef\\u8def162\\u5df7(\\u6771\\u5357\\u5074)', u'act': u'1', u'lat': u'25.10336', u'lng': u'121.522629', u'sbi': u'12', u'sarea': u'\\u58eb\\u6797\\u5340'}, \n",
    "                       u'0135': {u'mday': u'20160307001425', u'sareaen': u'Beitou Dist.', u'sna': u'\\u6377\\u904b\\u77f3\\u724c\\u7ad9(2\\u865f\\u51fa\\u53e3)', u'aren': u'Sec. 1, Donghua St. / Yumin 2nd Rd.', u'sno': u'0135', u'tot': u'54', u'snaen': u'MRT Shipai Sta. (Exit 2)', u'bemp': u'37', u'ar': u'\\u6771\\u83ef\\u8857\\u4e00\\u6bb5/\\u88d5\\u6c11\\u4e8c\\u8def(\\u897f\\u5074)', u'act': u'1', u'lat': u'25.114513', u'lng': u'121.515677', u'sbi': u'15', u'sarea': u'\\u5317\\u6295\\u5340'}, \n",
    "                       u'0136': {u'mday': u'20160307001424', u'sareaen': u'Beitou Dist.', u'sna': u'\\u570b\\u7acb\\u81fa\\u5317\\u8b77\\u7406\\u5065\\u5eb7\\u5927\\u5b78', u'aren': u'Ln. 130, Sec. 2, Shipai Rd. / Sec. 2, Shipai Rd.', u'sno': u'0136', u'tot': u'30', u'snaen': u'NTUNHS', u'bemp': u'22', u'ar': u'\\u77f3\\u724c\\u8def\\u4e8c\\u6bb5130\\u5df7/\\u77f3\\u724c\\u8def\\u4e8c\\u6bb5(\\u6771\\u5357\\u5074)', u'act': u'1', u'lat': u'25.118049', u'lng': u'121.517512', u'sbi': u'8', u'sarea': u'\\u5317\\u6295\\u5340'}\n",
    "                      },\n",
    "             'retCode':1\n",
    "            }"
   ]
  },
  {
   "cell_type": "markdown",
   "metadata": {},
   "source": [
    "所以實際上你要取得某一個場站的中文名你必須要用"
   ]
  },
  {
   "cell_type": "code",
   "execution_count": null,
   "metadata": {},
   "outputs": [],
   "source": [
    "print data['retVal']['0134']['sna']"
   ]
  },
  {
   "cell_type": "markdown",
   "metadata": {},
   "source": [
    "利用測試的方法測試出一筆資料的結構\n"
   ]
  },
  {
   "cell_type": "code",
   "execution_count": null,
   "metadata": {},
   "outputs": [],
   "source": [
    "print type(data)\n",
    "print data.keys() # hense it is a dictionary, print out its keys\n",
    "print data['retCode'] # print out the value according to each key. I confirm this one is not the data\n",
    "# print data['retVal'] # this is the data\n",
    "print type(data['retVal']), len(data['retVal'])\n",
    "for d in data['retVal']:\n",
    "    print data['retVal'][d]['sbi']\n"
   ]
  },
  {
   "cell_type": "markdown",
   "metadata": {},
   "source": [
    " 但實際上你並不曉得所有捷運的代碼是幾號到幾號，所以，你乾脆用for-each把它全部列出來。，這就是上述程式的做法。"
   ]
  },
  {
   "cell_type": "markdown",
   "metadata": {},
   "source": [
    "# +, -, *, **, /, % 加減乘除\n",
    "* ** - \"power of.\"\n",
    "* *%* - \"mod\" e.g., 5%3==2, 4%2==0.\n",
    "* */* - \"divide\" varied by data type of numberator and denominator"
   ]
  },
  {
   "cell_type": "code",
   "execution_count": null,
   "metadata": {},
   "outputs": [],
   "source": [
    "a, b = 5, 3\n",
    "print a+1+2+3+4+5+6+7+8+9 \n",
    "print a**4"
   ]
  },
  {
   "cell_type": "code",
   "execution_count": null,
   "metadata": {},
   "outputs": [],
   "source": [
    "a, b = 10, 3\n",
    "print \"a/b = %d ....%d\"%(a/b, a%b)\n",
    "\n",
    "print float(a)\n",
    "print \"a/b = %f\"%(float(a)/b)\n",
    "print \"a/b = %f\"%(a/float(b))"
   ]
  },
  {
   "cell_type": "code",
   "execution_count": null,
   "metadata": {},
   "outputs": [],
   "source": [
    "print \"a/b=\", a/b, \"a/b=\", a%b\n",
    "print \"a/b=%d, a%%b=%f\"%(a/b, a%b)\n",
    "print a/float(b)\n",
    "print float(a)/b\n",
    "print ((a+b)**2+(a-b)**2)/float(a**2+b**2) \n",
    "print str(a)/b\n",
    "# TypeError: unsupported operand type(s) for /: 'str' and 'int'\n"
   ]
  },
  {
   "cell_type": "markdown",
   "metadata": {},
   "source": [
    "# Example. Converting Temperature format\n",
    "* 攝氏tc溫度等於華氏tf溫度-32後乘以5/9。"
   ]
  },
  {
   "cell_type": "code",
   "execution_count": null,
   "metadata": {},
   "outputs": [],
   "source": [
    "tf = 32\n",
    "tc = 5.0/9.0*(tf-32)\n",
    "print tc"
   ]
  },
  {
   "cell_type": "markdown",
   "metadata": {},
   "source": [
    "1. 那反過來求華氏溫度怎麼求？\n",
    "2. 若用raw_input()來讀取鍵盤資料，會發生什麼樣的問題"
   ]
  },
  {
   "cell_type": "code",
   "execution_count": null,
   "metadata": {},
   "outputs": [],
   "source": []
  }
 ],
 "metadata": {
  "kernelspec": {
   "display_name": "Python 3",
   "language": "python",
   "name": "python3"
  },
  "language_info": {
   "codemirror_mode": {
    "name": "ipython",
    "version": 3
   },
   "file_extension": ".py",
   "mimetype": "text/x-python",
   "name": "python",
   "nbconvert_exporter": "python",
   "pygments_lexer": "ipython3",
   "version": "3.6.5"
  }
 },
 "nbformat": 4,
 "nbformat_minor": 1
}
