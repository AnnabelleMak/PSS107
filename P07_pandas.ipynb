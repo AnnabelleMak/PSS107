{
 "cells": [
  {
   "cell_type": "markdown",
   "metadata": {},
   "source": [
    "# CSV\n"
   ]
  },
  {
   "cell_type": "code",
   "execution_count": 2,
   "metadata": {},
   "outputs": [
    {
     "name": "stdout",
     "output_type": "stream",
     "text": [
      "{'網路': 1479, '平面媒體': 111, '其他': 13, '廣播電台': 71, '電視': 86}\n"
     ]
    }
   ],
   "source": [
    "import pandas as pd\n",
    "df = pd.read_csv('data/14196_drug_adv.csv', error_bad_lines=False)\n",
    "# list(df[\"刊播媒體\"])\n",
    "df.刊播媒體類別\n",
    "type_dict = {}\n",
    "for item in list(df.刊播媒體類別):\n",
    "    type_dict[item] = 0\n",
    "for item in list(df.刊播媒體類別):\n",
    "    type_dict[item] += 1\n",
    "print(type_dict)"
   ]
  },
  {
   "cell_type": "markdown",
   "metadata": {},
   "source": [
    "# JSON"
   ]
  },
  {
   "cell_type": "code",
   "execution_count": 3,
   "metadata": {},
   "outputs": [
    {
     "name": "stdout",
     "output_type": "stream",
     "text": [
      "<class 'requests.models.Response'>\n",
      "<class 'str'>\n"
     ]
    }
   ],
   "source": [
    "import requests\n",
    "import json\n",
    "response = requests.get('http://data.taipei/youbike')\n",
    "print(type(response)) # <class 'requests.models.Response'>\n",
    "print(type(response.text)) # <class 'str'>\n",
    "data = json.loads(response.text)"
   ]
  },
  {
   "cell_type": "markdown",
   "metadata": {},
   "source": [
    "Convert to json\n",
    "https://stackoverflow.com/questions/20638006/convert-list-of-dictionaries-to-dataframe"
   ]
  },
  {
   "cell_type": "code",
   "execution_count": 9,
   "metadata": {},
   "outputs": [],
   "source": [
    "all_list = []\n",
    "for k, v in data[\"retVal\"].items():\n",
    "    all_list.append(v)\n",
    "    \n",
    "df = pd.DataFrame(all_list)"
   ]
  },
  {
   "cell_type": "code",
   "execution_count": 15,
   "metadata": {},
   "outputs": [
    {
     "data": {
      "text/plain": [
       "0      73\n",
       "1      35\n",
       "2      25\n",
       "3      31\n",
       "4      41\n",
       "5      65\n",
       "6      64\n",
       "7      51\n",
       "8      32\n",
       "9      20\n",
       "10     21\n",
       "11     40\n",
       "12     32\n",
       "13      8\n",
       "14     19\n",
       "15     30\n",
       "16     24\n",
       "17     25\n",
       "18     24\n",
       "19     14\n",
       "20     40\n",
       "21     22\n",
       "22     10\n",
       "23     32\n",
       "24     11\n",
       "25     32\n",
       "26     40\n",
       "27      4\n",
       "28     38\n",
       "29     38\n",
       "       ..\n",
       "370    24\n",
       "371    22\n",
       "372    15\n",
       "373    13\n",
       "374    16\n",
       "375    20\n",
       "376    21\n",
       "377    32\n",
       "378     9\n",
       "379    19\n",
       "380    21\n",
       "381    12\n",
       "382    15\n",
       "383     5\n",
       "384    15\n",
       "385    15\n",
       "386    17\n",
       "387    11\n",
       "388    13\n",
       "389    11\n",
       "390    13\n",
       "391     8\n",
       "392    15\n",
       "393    20\n",
       "394    15\n",
       "395    21\n",
       "396    11\n",
       "397    18\n",
       "398    20\n",
       "399    12\n",
       "Name: rm, Length: 400, dtype: int64"
      ]
     },
     "execution_count": 15,
     "metadata": {},
     "output_type": "execute_result"
    }
   ],
   "source": [
    "df[\"rm\"] = pd.to_numeric(df[\"tot\"]) - pd.to_numeric(df[\"sbi\"])\n",
    "df[\"rm\"]"
   ]
  }
 ],
 "metadata": {
  "kernelspec": {
   "display_name": "Python 3",
   "language": "python",
   "name": "python3"
  },
  "language_info": {
   "codemirror_mode": {
    "name": "ipython",
    "version": 3
   },
   "file_extension": ".py",
   "mimetype": "text/x-python",
   "name": "python",
   "nbconvert_exporter": "python",
   "pygments_lexer": "ipython3",
   "version": "3.6.5"
  },
  "toc": {
   "base_numbering": 1,
   "nav_menu": {},
   "number_sections": true,
   "sideBar": true,
   "skip_h1_title": false,
   "title_cell": "Table of Contents",
   "title_sidebar": "Contents",
   "toc_cell": false,
   "toc_position": {},
   "toc_section_display": true,
   "toc_window_display": false
  }
 },
 "nbformat": 4,
 "nbformat_minor": 2
}
