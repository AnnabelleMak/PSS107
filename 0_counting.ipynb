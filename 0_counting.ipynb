{
 "cells": [
  {
   "cell_type": "markdown",
   "metadata": {},
   "source": [
    "# The fruit-counting problem\n",
    "* 寫程式是模仿你解決問題的邏輯，讓電腦幫你重複做。或稱「運算思維」\n",
    "\n",
    "### Problem definition\n",
    "* 考慮一個狀況，有一個跟一座山一樣多的水果，不知道有幾種水果，也不知道有幾顆，你必須要數出各種水果有幾顆，你會怎麼數？\n",
    "* **Solution**: 若你今天在用Excel處理的話，會使用`COUNTIF`函式，作法如下[Excel skills: How do I get the distinct/uniq](https://paper.dropbox.com/doc/Excel-skills--AMhtEb1RwJRKglJS17HxOonIAQ-oFgGCjW9W1m7UXBsdq6UG)\n",
    "- 如果你是用R來處理的話，那就會是`count(vec)`。\n",
    "\n",
    "### Related scenario of the fruit-counting problem\n",
    "* Counting word frequency in a sentence\n",
    "* Counting student grades distribution → using excel FREQUENCY function"
   ]
  },
  {
   "cell_type": "markdown",
   "metadata": {},
   "source": [
    "# Programming the fruit-counting problem\n",
    "\n",
    "\n",
    "\n",
    "### Progammable thinking\n",
    "- 先想想若你在數水果實際上你是怎麼數？Ans. 一顆一顆數。\n",
    "- 那你怎麼記住哪一種水果有幾顆？Ans. 拿出一張紙，看到一種沒看過的水果，就新增一個「對應」，將水果名稱對應到0，然後在對應的欄位數值遞增一。若已經看過該水果，那就直接找到那個欄位遞增一即可。\n",
    "\n",
    "### Elaborated thinking\n",
    "1. 先拿出一張紙做對應表，上面一行要寫水果名，下面一行為他所對應到的水果數量\n",
    "2. 把水果排成一列\n",
    "3. 對在該列中的每顆水果\n",
    "  1. 如果我沒看過他\n",
    "    - 就在對應表記下該水果，登記該水果為1顆。\n",
    "  - 若我有看過他\n",
    "    - 就把對應表上的那個水果所對應到的格子下面的數字加1。"
   ]
  },
  {
   "cell_type": "markdown",
   "metadata": {},
   "source": [
    "### Translating in English\n",
    "1. build a look-up table to record each fruit and number of the fruit(calls it dictionary), naming as **fruit_count**\n",
    "2. keep all fruits in a list named **fruit_list**\n",
    "3. for each fruit in **fruit_list**: \n",
    "    * If the fruit does not appear in **fruit_count**\n",
    "        * Create a mapping in **fruit_count** to map the fruit name to 1\n",
    "    * else\n",
    "        * increase the mapped value of the fruit name in **fruit_count**"
   ]
  },
  {
   "cell_type": "markdown",
   "metadata": {},
   "source": [
    "### Convert to Python\n",
    "You can copy the following code to your code area. But I recommend that you can type it line by line.\n",
    "```\n",
    "    fruit_count = {}\n",
    "    fruit_list = ['a', 'b', 'c', 'a', 'd', 'a', 'w', 'b']\n",
    "    for fruit in fruit_list:\n",
    "      if fruit not in fruit_count:\n",
    "        fruit_count[fruit] = 1\n",
    "      else:\n",
    "        fruit_count[fruit] = fruit_count[fruit] + 1\n",
    "```"
   ]
  },
  {
   "cell_type": "code",
   "execution_count": 21,
   "metadata": {},
   "outputs": [
    {
     "name": "stdout",
     "output_type": "stream",
     "text": [
      "{'apple': 4, 'banana': 3, 'grape': 1}\n"
     ]
    },
    {
     "data": {
      "text/plain": [
       "{'apple': 4, 'banana': 3, 'grape': 1}"
      ]
     },
     "execution_count": 21,
     "metadata": {},
     "output_type": "execute_result"
    }
   ],
   "source": [
    "fruit_count = {} # dictionary, key to value pairs\n",
    "\n",
    "fruit_list = ['apple', 'apple', 'banana', 'apple', 'banana', 'grape', 'banana', 'apple'] # A list of fruit\n",
    "\n",
    "for fruit in fruit_list:\n",
    "    if fruit not in fruit_count:\n",
    "        fruit_count[fruit] = 1 # = assignment, assign right to left part\n",
    "    else:\n",
    "        fruit_count[fruit] = fruit_count[fruit] + 1\n",
    "print(fruit_count)\n",
    "fruit_count"
   ]
  },
  {
   "cell_type": "markdown",
   "metadata": {},
   "source": [
    "# Shorter versions\n",
    "(You can ignore this cell)\n",
    "* You can rewrite above code in a shorter way. The feature is so-called \"comprehension\" way."
   ]
  },
  {
   "cell_type": "markdown",
   "metadata": {},
   "source": [
    "### shorter v.1"
   ]
  },
  {
   "cell_type": "code",
   "execution_count": 2,
   "metadata": {},
   "outputs": [
    {
     "name": "stdout",
     "output_type": "stream",
     "text": [
      "{'apple': 4, 'banana': 3, 'grape': 1}\n"
     ]
    },
    {
     "data": {
      "text/plain": [
       "{'apple': 4, 'banana': 3, 'grape': 1}"
      ]
     },
     "execution_count": 2,
     "metadata": {},
     "output_type": "execute_result"
    }
   ],
   "source": [
    "fruit_count = {} # dictionary, key to value pairs\n",
    "\n",
    "fruit_list = ['apple', 'apple', 'banana', 'apple', 'banana', 'grape', 'banana', 'apple'] # A list of fruit\n",
    "\n",
    "for fruit in fruit_list:\n",
    "    if fruit not in fruit_count:\n",
    "        fruit_count[fruit] = fruit_list.count(fruit)\n",
    "print(fruit_count)\n",
    "fruit_count"
   ]
  },
  {
   "cell_type": "markdown",
   "metadata": {},
   "source": [
    "### shorter v.2"
   ]
  },
  {
   "cell_type": "code",
   "execution_count": 4,
   "metadata": {},
   "outputs": [
    {
     "name": "stdout",
     "output_type": "stream",
     "text": [
      "{'grape': 1, 'apple': 4, 'banana': 3}\n"
     ]
    },
    {
     "data": {
      "text/plain": [
       "{'grape': 1, 'apple': 4, 'banana': 3}"
      ]
     },
     "execution_count": 4,
     "metadata": {},
     "output_type": "execute_result"
    }
   ],
   "source": [
    "fruit_count = {} # dictionary, key to value pairs\n",
    "fruit_list = ['apple', 'apple', 'banana', 'apple', 'banana', 'grape', 'banana', 'apple'] # A list of fruit\n",
    "\n",
    "for fruit in set(fruit_list):\n",
    "    fruit_count[fruit] = fruit_list.count(fruit)\n",
    "print(fruit_count)\n",
    "fruit_count"
   ]
  },
  {
   "cell_type": "markdown",
   "metadata": {},
   "source": [
    "### shorter v.3\n",
    "* Writing in comprehension style\n",
    "`{k:fruit_list.count(k) for k in set(fruit_list)}`"
   ]
  },
  {
   "cell_type": "code",
   "execution_count": 5,
   "metadata": {},
   "outputs": [
    {
     "name": "stdout",
     "output_type": "stream",
     "text": [
      "{'grape': 1, 'apple': 4, 'banana': 3}\n"
     ]
    }
   ],
   "source": [
    "fruit_count = {k:fruit_list.count(k) for k in set(fruit_list)}\n",
    "print(fruit_count)"
   ]
  },
  {
   "cell_type": "markdown",
   "metadata": {},
   "source": [
    "# Print out all pair of data by for-loop"
   ]
  },
  {
   "cell_type": "code",
   "execution_count": 7,
   "metadata": {},
   "outputs": [
    {
     "name": "stdout",
     "output_type": "stream",
     "text": [
      "grape 1\n",
      "apple 4\n",
      "banana 3\n"
     ]
    }
   ],
   "source": [
    "for key in fruit_count:\n",
    "    print key, fruit_count[key]"
   ]
  },
  {
   "cell_type": "markdown",
   "metadata": {},
   "source": [
    "# Sort the data by value"
   ]
  },
  {
   "cell_type": "code",
   "execution_count": 10,
   "metadata": {},
   "outputs": [
    {
     "name": "stdout",
     "output_type": "stream",
     "text": [
      "['apple', 'banana', 'grape']\n"
     ]
    }
   ],
   "source": [
    "sorted_keys = sorted(fruit_count, key=fruit_count.get, reverse=True)\n",
    "print sorted_keys"
   ]
  },
  {
   "cell_type": "code",
   "execution_count": 11,
   "metadata": {},
   "outputs": [
    {
     "name": "stdout",
     "output_type": "stream",
     "text": [
      "apple 4\n",
      "banana 3\n",
      "grape 1\n"
     ]
    }
   ],
   "source": [
    "for key in sorted_keys:\n",
    "    print key, fruit_count[key]"
   ]
  },
  {
   "cell_type": "markdown",
   "metadata": {},
   "source": [
    "# Counting Word frequency: A document as your \"fruits\"\n",
    "* Now we want to count the occurrence of words in a document. Let treat each word as a distinct fruit. So you must seperate a document (or a sentence) into a list of words. \n",
    "* We want to use wikipedia sentences to demonstrate how counting can help us to understand the wording of text.\n",
    "* Before importing and using the wikipedia package, using `pip install wikipedia` to install it in your computer."
   ]
  },
  {
   "cell_type": "code",
   "execution_count": 2,
   "metadata": {},
   "outputs": [
    {
     "data": {
      "text/plain": [
       "'Big data is a term used to refer to the study and applications of data sets that are so big and complex that traditional data-processing application software are inadequate to deal with them. Big data challenges include capturing data, data storage, data analysis, search, sharing, transfer, visualization, querying, updating, information privacy and data source. There are a number of concepts associated with big data: originally there were 3 concepts volume, variety, velocity. Other concepts later attributed with big data are veracity (i.e., how much noise is in the data)  and value.\\nLately, the term \"big data\" tends to refer to the use of predictive analytics, user behavior analytics, or certain other advanced data analytics methods that extract value from data, and seldom to a particular size of data set. \"There is little doubt that the quantities of data now available are indeed large, but that’s not the most relevant characteristic of this new data ecosystem.\"\\nAnalysis of data sets can find new correlations to \"spot business trends, prevent diseases, combat crime and so on.\" Scientists, business executives, practitioners of medicine, advertising and governments alike regularly meet difficulties with large data-sets in areas including Internet search, fintech, urban informatics, and business informatics.  Scientists encounter limitations in e-Science work, including meteorology, genomics, connectomics, complex physics simulations, biology and environmental research.Data sets grow rapidly - in part because they are increasingly gathered by cheap and numerous information-sensing Internet of things devices such as mobile devices, aerial (remote sensing), software logs, cameras, microphones, radio-frequency identification (RFID) readers and wireless sensor networks. The world\\'s technological per-capita capacity to store information has roughly doubled every 40 months since the 1980s; as of  2012, every day 2.5 exabytes (2.5×1018) of data are generated. Based on an IDC report prediction, the global data volume will grow exponentially from 4.4 zettabytes to 44 zettabytes between 2013 and 2020. By 2025, IDC predicts there will be 163 zettabytes of data.'"
      ]
     },
     "execution_count": 2,
     "metadata": {},
     "output_type": "execute_result"
    }
   ],
   "source": [
    "import wikipedia \n",
    "import string\n",
    "string_a  = wikipedia.summary(\"Big_data\", sentences = 10)\n",
    "type(string_a)\n",
    "string_a\n",
    "# astring = \"In 2004, Obama received national attention during his campaign to represent Illinois in the United States Senate with his victory in the March Democratic Party primary, his keynote address at the Democratic National Convention in July, and his election to the Senate in November. He began his presidential campaign in 2007 and, after a close primary campaign against Hillary Rodham Clinton in 2008, he won sufficient delegates in the Democratic Party primaries to receive the presidential nomination. He then defeated Republican nominee John McCain in the general election, and was inaugurated as president on January 20, 2009. Nine months after his inauguration, Obama was named the 2009 Nobel Peace Prize laureate\""
   ]
  },
  {
   "cell_type": "code",
   "execution_count": 3,
   "metadata": {},
   "outputs": [
    {
     "data": {
      "text/plain": [
       "['big',\n",
       " 'data',\n",
       " 'is',\n",
       " 'a',\n",
       " 'term',\n",
       " 'used',\n",
       " 'to',\n",
       " 'refer',\n",
       " 'to',\n",
       " 'the',\n",
       " 'study',\n",
       " 'and',\n",
       " 'applications',\n",
       " 'of',\n",
       " 'data',\n",
       " 'sets',\n",
       " 'that',\n",
       " 'are',\n",
       " 'so',\n",
       " 'big',\n",
       " 'and',\n",
       " 'complex',\n",
       " 'that',\n",
       " 'traditional',\n",
       " 'dataprocessing',\n",
       " 'application',\n",
       " 'software',\n",
       " 'are',\n",
       " 'inadequate',\n",
       " 'to',\n",
       " 'deal',\n",
       " 'with',\n",
       " 'them',\n",
       " 'big',\n",
       " 'data',\n",
       " 'challenges',\n",
       " 'include',\n",
       " 'capturing',\n",
       " 'data',\n",
       " 'data',\n",
       " 'storage',\n",
       " 'data',\n",
       " 'analysis',\n",
       " 'search',\n",
       " 'sharing',\n",
       " 'transfer',\n",
       " 'visualization',\n",
       " 'querying',\n",
       " 'updating',\n",
       " 'information',\n",
       " 'privacy',\n",
       " 'and',\n",
       " 'data',\n",
       " 'source',\n",
       " 'there',\n",
       " 'are',\n",
       " 'a',\n",
       " 'number',\n",
       " 'of',\n",
       " 'concepts',\n",
       " 'associated',\n",
       " 'with',\n",
       " 'big',\n",
       " 'data',\n",
       " 'originally',\n",
       " 'there',\n",
       " 'were',\n",
       " '3',\n",
       " 'concepts',\n",
       " 'volume',\n",
       " 'variety',\n",
       " 'velocity',\n",
       " 'other',\n",
       " 'concepts',\n",
       " 'later',\n",
       " 'attributed',\n",
       " 'with',\n",
       " 'big',\n",
       " 'data',\n",
       " 'are',\n",
       " 'veracity',\n",
       " 'ie',\n",
       " 'how',\n",
       " 'much',\n",
       " 'noise',\n",
       " 'is',\n",
       " 'in',\n",
       " 'the',\n",
       " 'data',\n",
       " 'and',\n",
       " 'value',\n",
       " 'lately',\n",
       " 'the',\n",
       " 'term',\n",
       " 'big',\n",
       " 'data',\n",
       " 'tends',\n",
       " 'to',\n",
       " 'refer',\n",
       " 'to',\n",
       " 'the',\n",
       " 'use',\n",
       " 'of',\n",
       " 'predictive',\n",
       " 'analytics',\n",
       " 'user',\n",
       " 'behavior',\n",
       " 'analytics',\n",
       " 'or',\n",
       " 'certain',\n",
       " 'other',\n",
       " 'advanced',\n",
       " 'data',\n",
       " 'analytics',\n",
       " 'methods',\n",
       " 'that',\n",
       " 'extract',\n",
       " 'value',\n",
       " 'from',\n",
       " 'data',\n",
       " 'and',\n",
       " 'seldom',\n",
       " 'to',\n",
       " 'a',\n",
       " 'particular',\n",
       " 'size',\n",
       " 'of',\n",
       " 'data',\n",
       " 'set',\n",
       " 'there',\n",
       " 'is',\n",
       " 'little',\n",
       " 'doubt',\n",
       " 'that',\n",
       " 'the',\n",
       " 'quantities',\n",
       " 'of',\n",
       " 'data',\n",
       " 'now',\n",
       " 'available',\n",
       " 'are',\n",
       " 'indeed',\n",
       " 'large',\n",
       " 'but',\n",
       " 'that’s',\n",
       " 'not',\n",
       " 'the',\n",
       " 'most',\n",
       " 'relevant',\n",
       " 'characteristic',\n",
       " 'of',\n",
       " 'this',\n",
       " 'new',\n",
       " 'data',\n",
       " 'ecosystem',\n",
       " 'analysis',\n",
       " 'of',\n",
       " 'data',\n",
       " 'sets',\n",
       " 'can',\n",
       " 'find',\n",
       " 'new',\n",
       " 'correlations',\n",
       " 'to',\n",
       " 'spot',\n",
       " 'business',\n",
       " 'trends',\n",
       " 'prevent',\n",
       " 'diseases',\n",
       " 'combat',\n",
       " 'crime',\n",
       " 'and',\n",
       " 'so',\n",
       " 'on',\n",
       " 'scientists',\n",
       " 'business',\n",
       " 'executives',\n",
       " 'practitioners',\n",
       " 'of',\n",
       " 'medicine',\n",
       " 'advertising',\n",
       " 'and',\n",
       " 'governments',\n",
       " 'alike',\n",
       " 'regularly',\n",
       " 'meet',\n",
       " 'difficulties',\n",
       " 'with',\n",
       " 'large',\n",
       " 'datasets',\n",
       " 'in',\n",
       " 'areas',\n",
       " 'including',\n",
       " 'internet',\n",
       " 'search',\n",
       " 'fintech',\n",
       " 'urban',\n",
       " 'informatics',\n",
       " 'and',\n",
       " 'business',\n",
       " 'informatics',\n",
       " 'scientists',\n",
       " 'encounter',\n",
       " 'limitations',\n",
       " 'in',\n",
       " 'escience',\n",
       " 'work',\n",
       " 'including',\n",
       " 'meteorology',\n",
       " 'genomics',\n",
       " 'connectomics',\n",
       " 'complex',\n",
       " 'physics',\n",
       " 'simulations',\n",
       " 'biology',\n",
       " 'and',\n",
       " 'environmental',\n",
       " 'researchdata',\n",
       " 'sets',\n",
       " 'grow',\n",
       " 'rapidly',\n",
       " 'in',\n",
       " 'part',\n",
       " 'because',\n",
       " 'they',\n",
       " 'are',\n",
       " 'increasingly',\n",
       " 'gathered',\n",
       " 'by',\n",
       " 'cheap',\n",
       " 'and',\n",
       " 'numerous',\n",
       " 'informationsensing',\n",
       " 'internet',\n",
       " 'of',\n",
       " 'things',\n",
       " 'devices',\n",
       " 'such',\n",
       " 'as',\n",
       " 'mobile',\n",
       " 'devices',\n",
       " 'aerial',\n",
       " 'remote',\n",
       " 'sensing',\n",
       " 'software',\n",
       " 'logs',\n",
       " 'cameras',\n",
       " 'microphones',\n",
       " 'radiofrequency',\n",
       " 'identification',\n",
       " 'rfid',\n",
       " 'readers',\n",
       " 'and',\n",
       " 'wireless',\n",
       " 'sensor',\n",
       " 'networks',\n",
       " 'the',\n",
       " 'worlds',\n",
       " 'technological',\n",
       " 'percapita',\n",
       " 'capacity',\n",
       " 'to',\n",
       " 'store',\n",
       " 'information',\n",
       " 'has',\n",
       " 'roughly',\n",
       " 'doubled',\n",
       " 'every',\n",
       " '40',\n",
       " 'months',\n",
       " 'since',\n",
       " 'the',\n",
       " '1980s',\n",
       " 'as',\n",
       " 'of',\n",
       " '2012',\n",
       " 'every',\n",
       " 'day',\n",
       " '25',\n",
       " 'exabytes',\n",
       " '25×1018',\n",
       " 'of',\n",
       " 'data',\n",
       " 'are',\n",
       " 'generated',\n",
       " 'based',\n",
       " 'on',\n",
       " 'an',\n",
       " 'idc',\n",
       " 'report',\n",
       " 'prediction',\n",
       " 'the',\n",
       " 'global',\n",
       " 'data',\n",
       " 'volume',\n",
       " 'will',\n",
       " 'grow',\n",
       " 'exponentially',\n",
       " 'from',\n",
       " '44',\n",
       " 'zettabytes',\n",
       " 'to',\n",
       " '44',\n",
       " 'zettabytes',\n",
       " 'between',\n",
       " '2013',\n",
       " 'and',\n",
       " '2020',\n",
       " 'by',\n",
       " '2025',\n",
       " 'idc',\n",
       " 'predicts',\n",
       " 'there',\n",
       " 'will',\n",
       " 'be',\n",
       " '163',\n",
       " 'zettabytes',\n",
       " 'of',\n",
       " 'data']"
      ]
     },
     "execution_count": 3,
     "metadata": {},
     "output_type": "execute_result"
    }
   ],
   "source": [
    "type(string.punctuation)\n",
    "# astring = astring.translate(None, string.punctuation) for python 2.x\n",
    "translator = str.maketrans('','',string.punctuation)\n",
    "string_a = string_a.translate(translator)\n",
    "string_a = string_a.lower()\n",
    "\n",
    "words = string_a.split()\n",
    "type(words)\n",
    "words"
   ]
  },
  {
   "cell_type": "code",
   "execution_count": 5,
   "metadata": {},
   "outputs": [
    {
     "name": "stdout",
     "output_type": "stream",
     "text": [
      "('data', 20)\n",
      "('and', 12)\n",
      "('of', 12)\n",
      "('to', 9)\n",
      "('the', 9)\n",
      "('are', 7)\n",
      "('big', 6)\n",
      "('that', 4)\n",
      "('with', 4)\n",
      "('there', 4)\n",
      "('in', 4)\n",
      "('is', 3)\n",
      "('a', 3)\n",
      "('sets', 3)\n",
      "('concepts', 3)\n",
      "('analytics', 3)\n",
      "('business', 3)\n",
      "('zettabytes', 3)\n",
      "('term', 2)\n",
      "('refer', 2)\n",
      "('so', 2)\n",
      "('complex', 2)\n",
      "('software', 2)\n",
      "('analysis', 2)\n",
      "('search', 2)\n",
      "('information', 2)\n",
      "('volume', 2)\n",
      "('other', 2)\n",
      "('value', 2)\n",
      "('from', 2)\n",
      "('large', 2)\n",
      "('new', 2)\n",
      "('on', 2)\n",
      "('scientists', 2)\n",
      "('including', 2)\n",
      "('internet', 2)\n",
      "('informatics', 2)\n",
      "('grow', 2)\n",
      "('by', 2)\n",
      "('devices', 2)\n",
      "('as', 2)\n",
      "('every', 2)\n",
      "('idc', 2)\n",
      "('will', 2)\n",
      "('44', 2)\n",
      "('used', 1)\n",
      "('study', 1)\n",
      "('applications', 1)\n",
      "('traditional', 1)\n",
      "('dataprocessing', 1)\n",
      "('application', 1)\n",
      "('inadequate', 1)\n",
      "('deal', 1)\n",
      "('them', 1)\n",
      "('challenges', 1)\n",
      "('include', 1)\n",
      "('capturing', 1)\n",
      "('storage', 1)\n",
      "('sharing', 1)\n",
      "('transfer', 1)\n",
      "('visualization', 1)\n",
      "('querying', 1)\n",
      "('updating', 1)\n",
      "('privacy', 1)\n",
      "('source', 1)\n",
      "('number', 1)\n",
      "('associated', 1)\n",
      "('originally', 1)\n",
      "('were', 1)\n",
      "('3', 1)\n",
      "('variety', 1)\n",
      "('velocity', 1)\n",
      "('later', 1)\n",
      "('attributed', 1)\n",
      "('veracity', 1)\n",
      "('ie', 1)\n",
      "('how', 1)\n",
      "('much', 1)\n",
      "('noise', 1)\n",
      "('lately', 1)\n",
      "('tends', 1)\n",
      "('use', 1)\n",
      "('predictive', 1)\n",
      "('user', 1)\n",
      "('behavior', 1)\n",
      "('or', 1)\n",
      "('certain', 1)\n",
      "('advanced', 1)\n",
      "('methods', 1)\n",
      "('extract', 1)\n",
      "('seldom', 1)\n",
      "('particular', 1)\n",
      "('size', 1)\n",
      "('set', 1)\n",
      "('little', 1)\n",
      "('doubt', 1)\n",
      "('quantities', 1)\n",
      "('now', 1)\n",
      "('available', 1)\n",
      "('indeed', 1)\n"
     ]
    }
   ],
   "source": [
    "word_freq = {}\n",
    "for w in words:\n",
    "    if w not in word_freq: # dictionary key-value initilization\n",
    "        word_freq[w] = 0\n",
    "    word_freq[w] += 1\n",
    "\n",
    "import operator\n",
    "sorted_x = sorted(word_freq.items(), \n",
    "                  key=operator.itemgetter(1), \n",
    "                  reverse=True)\n",
    "\n",
    "for k in sorted_x[:100]:\n",
    "    print(k)\n",
    "    "
   ]
  }
 ],
 "metadata": {
  "kernelspec": {
   "display_name": "Python 3",
   "language": "python",
   "name": "python3"
  },
  "language_info": {
   "codemirror_mode": {
    "name": "ipython",
    "version": 3
   },
   "file_extension": ".py",
   "mimetype": "text/x-python",
   "name": "python",
   "nbconvert_exporter": "python",
   "pygments_lexer": "ipython3",
   "version": "3.6.5"
  }
 },
 "nbformat": 4,
 "nbformat_minor": 1
}
